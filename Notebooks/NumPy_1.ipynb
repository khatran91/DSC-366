{
  "cells": [
    {
      "cell_type": "markdown",
      "id": "d471fa6c-b0ca-4cb7-92db-46f703222a31",
      "metadata": {
        "id": "d471fa6c-b0ca-4cb7-92db-46f703222a31"
      },
      "source": [
        "# NumPy\n"
      ]
    },
    {
      "cell_type": "code",
      "execution_count": 2,
      "id": "78d3919f-0136-4277-a00d-7ae593f8e95d",
      "metadata": {
        "id": "78d3919f-0136-4277-a00d-7ae593f8e95d"
      },
      "outputs": [],
      "source": [
        "import numpy as np\n",
        "\n",
        "A = np.array([[1, 1, 1],\n",
        "              [6, 4, 5],\n",
        "              [5, 2, 2]])\n",
        "\n",
        "b = np.array([2, 31, 13])\n"
      ]
    },
    {
      "cell_type": "code",
      "execution_count": null,
      "id": "cd2643de-8f1f-4a4f-93bf-6fa96c9b17fa",
      "metadata": {
        "id": "cd2643de-8f1f-4a4f-93bf-6fa96c9b17fa",
        "colab": {
          "base_uri": "https://localhost:8080/"
        },
        "outputId": "3bd231da-1139-43ee-e935-dc9c9a737cdf"
      },
      "outputs": [
        {
          "output_type": "stream",
          "name": "stdout",
          "text": [
            "[[1 1 1]\n",
            " [6 4 5]\n",
            " [5 2 2]]\n",
            "(3, 3)\n",
            "int64\n"
          ]
        }
      ],
      "source": [
        "print(A)\n",
        "print(A.shape)\n",
        "print(b.dtype)"
      ]
    },
    {
      "cell_type": "code",
      "execution_count": null,
      "id": "87f15081-8eab-4065-a0ad-9ea3887712b4",
      "metadata": {
        "id": "87f15081-8eab-4065-a0ad-9ea3887712b4",
        "colab": {
          "base_uri": "https://localhost:8080/"
        },
        "outputId": "3329f140-29dc-451f-c50b-ff9870a46213"
      },
      "outputs": [
        {
          "output_type": "execute_result",
          "data": {
            "text/plain": [
              "array([[ 2,  2,  2],\n",
              "       [12,  8, 10],\n",
              "       [10,  4,  4]])"
            ]
          },
          "metadata": {},
          "execution_count": 3
        }
      ],
      "source": [
        "A + A"
      ]
    },
    {
      "cell_type": "code",
      "execution_count": null,
      "id": "d559a819-3b25-4ae8-847e-9b3cc85b8c02",
      "metadata": {
        "id": "d559a819-3b25-4ae8-847e-9b3cc85b8c02",
        "colab": {
          "base_uri": "https://localhost:8080/"
        },
        "outputId": "eddd0786-8c11-46bf-e580-c8bd589cdcfd"
      },
      "outputs": [
        {
          "output_type": "execute_result",
          "data": {
            "text/plain": [
              "array([[0, 0, 0],\n",
              "       [0, 0, 0],\n",
              "       [0, 0, 0]])"
            ]
          },
          "metadata": {},
          "execution_count": 4
        }
      ],
      "source": [
        "A - A"
      ]
    },
    {
      "cell_type": "code",
      "execution_count": null,
      "id": "105cb04e-e458-4e69-96dc-796f713b4cb0",
      "metadata": {
        "id": "105cb04e-e458-4e69-96dc-796f713b4cb0",
        "colab": {
          "base_uri": "https://localhost:8080/"
        },
        "outputId": "54e6a3fb-807a-4d3c-8d15-c1d6498ebd18"
      },
      "outputs": [
        {
          "output_type": "execute_result",
          "data": {
            "text/plain": [
              "array([[ 2,  2,  2],\n",
              "       [12,  8, 10],\n",
              "       [10,  4,  4]])"
            ]
          },
          "metadata": {},
          "execution_count": 5
        }
      ],
      "source": [
        "A * 2"
      ]
    },
    {
      "cell_type": "markdown",
      "id": "7d586746-6192-4b6c-9059-fb93ba8c3975",
      "metadata": {
        "id": "7d586746-6192-4b6c-9059-fb93ba8c3975"
      },
      "source": [
        "Consider the performance at some scale"
      ]
    },
    {
      "cell_type": "code",
      "execution_count": null,
      "id": "a7073dd1-84d1-432a-b5ca-d90d6cbb985b",
      "metadata": {
        "id": "a7073dd1-84d1-432a-b5ca-d90d6cbb985b"
      },
      "outputs": [],
      "source": [
        "#create two objects for comparison one numpy the other a list\n",
        "my_arr = np.arange(1000000)\n",
        "\n",
        "my_list = list(range(1000000))"
      ]
    },
    {
      "cell_type": "code",
      "execution_count": null,
      "id": "748118f6-2fee-4b31-a996-1a87facd6da3",
      "metadata": {
        "id": "748118f6-2fee-4b31-a996-1a87facd6da3",
        "colab": {
          "base_uri": "https://localhost:8080/"
        },
        "outputId": "94337ef6-7bc4-4fc3-f332-9887f9770e73"
      },
      "outputs": [
        {
          "output_type": "stream",
          "name": "stdout",
          "text": [
            "1.03 ms ± 65.1 µs per loop (mean ± std. dev. of 7 runs, 1000 loops each)\n"
          ]
        }
      ],
      "source": [
        "# multiply by a scalar\n",
        "%timeit my_arr2 = my_arr * 2"
      ]
    },
    {
      "cell_type": "code",
      "execution_count": null,
      "id": "2d712229-5af7-403e-b410-8f000d9cae71",
      "metadata": {
        "id": "2d712229-5af7-403e-b410-8f000d9cae71",
        "colab": {
          "base_uri": "https://localhost:8080/"
        },
        "outputId": "f1cf4953-f037-4515-a29c-9a02d870947d"
      },
      "outputs": [
        {
          "output_type": "stream",
          "name": "stdout",
          "text": [
            "64.7 ms ± 15.8 ms per loop (mean ± std. dev. of 7 runs, 10 loops each)\n"
          ]
        }
      ],
      "source": [
        "%timeit my_list2 = [x * 2 for x in my_list]"
      ]
    },
    {
      "cell_type": "markdown",
      "id": "cf4632c6-71a3-4a74-9f2a-0d640f148813",
      "metadata": {
        "id": "cf4632c6-71a3-4a74-9f2a-0d640f148813"
      },
      "source": [
        "Much faster!!"
      ]
    },
    {
      "cell_type": "code",
      "execution_count": null,
      "id": "0d167d89-a051-4fe5-8d25-c1a7f2b41cf8",
      "metadata": {
        "id": "0d167d89-a051-4fe5-8d25-c1a7f2b41cf8",
        "colab": {
          "base_uri": "https://localhost:8080/"
        },
        "outputId": "649976fa-f7a4-4875-8ac6-9440d6b0b4d0"
      },
      "outputs": [
        {
          "output_type": "execute_result",
          "data": {
            "text/plain": [
              "array([[0., 0., 0., 0., 0.],\n",
              "       [0., 0., 0., 0., 0.],\n",
              "       [0., 0., 0., 0., 0.],\n",
              "       [0., 0., 0., 0., 0.],\n",
              "       [0., 0., 0., 0., 0.],\n",
              "       [0., 0., 0., 0., 0.],\n",
              "       [0., 0., 0., 0., 0.],\n",
              "       [0., 0., 0., 0., 0.],\n",
              "       [0., 0., 0., 0., 0.],\n",
              "       [0., 0., 0., 0., 0.]])"
            ]
          },
          "metadata": {},
          "execution_count": 9
        }
      ],
      "source": [
        "zeros = np.zeros((10,5))\n",
        "zeros"
      ]
    },
    {
      "cell_type": "code",
      "execution_count": null,
      "id": "2cb7439f-c878-4a15-8778-1caec54f8b13",
      "metadata": {
        "id": "2cb7439f-c878-4a15-8778-1caec54f8b13",
        "colab": {
          "base_uri": "https://localhost:8080/"
        },
        "outputId": "288a5c24-96e2-4ed3-8eb6-290b8882e098"
      },
      "outputs": [
        {
          "output_type": "execute_result",
          "data": {
            "text/plain": [
              "array([[1., 1., 1., 1., 1.],\n",
              "       [1., 1., 1., 1., 1.],\n",
              "       [1., 1., 1., 1., 1.],\n",
              "       [1., 1., 1., 1., 1.],\n",
              "       [1., 1., 1., 1., 1.],\n",
              "       [1., 1., 1., 1., 1.],\n",
              "       [1., 1., 1., 1., 1.],\n",
              "       [1., 1., 1., 1., 1.],\n",
              "       [1., 1., 1., 1., 1.],\n",
              "       [1., 1., 1., 1., 1.]])"
            ]
          },
          "metadata": {},
          "execution_count": 65
        }
      ],
      "source": [
        "ones = np.ones((10,5))\n",
        "ones"
      ]
    },
    {
      "cell_type": "code",
      "source": [
        "empty = np.empty((10,5), dtype=int)\n",
        "empty"
      ],
      "metadata": {
        "id": "3In1lozqLp10",
        "colab": {
          "base_uri": "https://localhost:8080/"
        },
        "outputId": "3e5883b2-567e-4458-e7ab-cde1f1ceda14"
      },
      "id": "3In1lozqLp10",
      "execution_count": null,
      "outputs": [
        {
          "output_type": "execute_result",
          "data": {
            "text/plain": [
              "array([[4607182418800017408, 4607182418800017408, 4607182418800017408,\n",
              "        4607182418800017408, 4607182418800017408],\n",
              "       [4607182418800017408, 4607182418800017408, 4607182418800017408,\n",
              "        4607182418800017408, 4607182418800017408],\n",
              "       [4607182418800017408, 4607182418800017408, 4607182418800017408,\n",
              "        4607182418800017408, 4607182418800017408],\n",
              "       [4607182418800017408, 4607182418800017408, 4607182418800017408,\n",
              "        4607182418800017408, 4607182418800017408],\n",
              "       [4607182418800017408, 4607182418800017408, 4607182418800017408,\n",
              "        4607182418800017408, 4607182418800017408],\n",
              "       [4607182418800017408, 4607182418800017408, 4607182418800017408,\n",
              "        4607182418800017408, 4607182418800017408],\n",
              "       [4607182418800017408, 4607182418800017408, 4607182418800017408,\n",
              "        4607182418800017408, 4607182418800017408],\n",
              "       [4607182418800017408, 4607182418800017408, 4607182418800017408,\n",
              "        4607182418800017408, 4607182418800017408],\n",
              "       [4607182418800017408, 4607182418800017408, 4607182418800017408,\n",
              "        4607182418800017408, 4607182418800017408],\n",
              "       [4607182418800017408, 4607182418800017408, 4607182418800017408,\n",
              "        4607182418800017408, 4607182418800017408]])"
            ]
          },
          "metadata": {},
          "execution_count": 15
        }
      ]
    },
    {
      "cell_type": "markdown",
      "id": "71289dcc-8c43-4950-8d6a-c0dbc1182e75",
      "metadata": {
        "id": "71289dcc-8c43-4950-8d6a-c0dbc1182e75"
      },
      "source": [
        "### Indexing and Slicing"
      ]
    },
    {
      "cell_type": "code",
      "execution_count": null,
      "id": "13d99f7e-7f43-43cc-8226-16d013c9ae87",
      "metadata": {
        "id": "13d99f7e-7f43-43cc-8226-16d013c9ae87"
      },
      "outputs": [],
      "source": [
        "my_array = np.arange(15)"
      ]
    },
    {
      "cell_type": "code",
      "execution_count": null,
      "id": "4e0bb508-f953-438d-854c-a50f52b51049",
      "metadata": {
        "id": "4e0bb508-f953-438d-854c-a50f52b51049",
        "colab": {
          "base_uri": "https://localhost:8080/"
        },
        "outputId": "5d3548ab-f105-48df-821d-56347404da15"
      },
      "outputs": [
        {
          "output_type": "execute_result",
          "data": {
            "text/plain": [
              "array([ 0,  1,  2,  3,  4,  5,  6,  7,  8,  9, 10, 11, 12, 13, 14])"
            ]
          },
          "metadata": {},
          "execution_count": 68
        }
      ],
      "source": [
        "my_array"
      ]
    },
    {
      "cell_type": "code",
      "execution_count": null,
      "id": "60049772-b2dc-4b7a-bc1e-16e02a17218d",
      "metadata": {
        "id": "60049772-b2dc-4b7a-bc1e-16e02a17218d",
        "colab": {
          "base_uri": "https://localhost:8080/"
        },
        "outputId": "f069d55c-32d6-4ba0-aa1c-62086c47675b"
      },
      "outputs": [
        {
          "output_type": "execute_result",
          "data": {
            "text/plain": [
              "array([0, 1, 2, 3, 4, 5, 6])"
            ]
          },
          "metadata": {},
          "execution_count": 70
        }
      ],
      "source": [
        "my_array[0:7]"
      ]
    },
    {
      "cell_type": "code",
      "execution_count": null,
      "id": "11ea63d5-f432-4671-b46d-55db11583985",
      "metadata": {
        "id": "11ea63d5-f432-4671-b46d-55db11583985",
        "colab": {
          "base_uri": "https://localhost:8080/"
        },
        "outputId": "91112026-9ba0-4958-af6c-f802f94578e6"
      },
      "outputs": [
        {
          "output_type": "execute_result",
          "data": {
            "text/plain": [
              "array([ 0,  1,  2,  3,  4,  5,  6,  7,  8, 34, 34, 11, 12, 13, 14])"
            ]
          },
          "metadata": {},
          "execution_count": 71
        }
      ],
      "source": [
        "my_array[9:11] = 34\n",
        "my_array"
      ]
    },
    {
      "cell_type": "markdown",
      "id": "6476333e-7852-458e-aeb0-40e46fa2d6ea",
      "metadata": {
        "id": "6476333e-7852-458e-aeb0-40e46fa2d6ea"
      },
      "source": [
        "Careful with slices as they point back to the orignial data! This is called a **view**."
      ]
    },
    {
      "cell_type": "code",
      "execution_count": null,
      "id": "7404d540-fa17-473f-abab-2f90ba8c5734",
      "metadata": {
        "id": "7404d540-fa17-473f-abab-2f90ba8c5734",
        "colab": {
          "base_uri": "https://localhost:8080/"
        },
        "outputId": "14ce82a7-b643-4827-a37a-d2219989f7d6"
      },
      "outputs": [
        {
          "output_type": "execute_result",
          "data": {
            "text/plain": [
              "array([101,   1,   2,   3,   4,   5,   6,   7,   8,  34,  34,  11,  12,\n",
              "        13,  14])"
            ]
          },
          "metadata": {},
          "execution_count": 72
        }
      ],
      "source": [
        "my_slice = my_array[0:2]\n",
        "my_slice[0] = 101\n",
        "my_array"
      ]
    },
    {
      "cell_type": "code",
      "execution_count": null,
      "id": "e5f32f85-7c4c-492f-ad7f-6fb526045770",
      "metadata": {
        "id": "e5f32f85-7c4c-492f-ad7f-6fb526045770",
        "colab": {
          "base_uri": "https://localhost:8080/"
        },
        "outputId": "22b8d531-18e4-4ab9-81b8-db58c771c1cb"
      },
      "outputs": [
        {
          "output_type": "stream",
          "name": "stdout",
          "text": [
            "[101   1   2   3   4   5   6   7   8  34  34  11  12  13  14]\n",
            "[201   1]\n"
          ]
        }
      ],
      "source": [
        "#can force a hard copy with .copy()\n",
        "my_slice = my_array[0:2].copy()\n",
        "my_slice[0] = 201\n",
        "print(my_array)\n",
        "print(my_slice)"
      ]
    },
    {
      "cell_type": "code",
      "execution_count": null,
      "id": "d100eb9e-5ff2-4923-9d33-947f273f746d",
      "metadata": {
        "id": "d100eb9e-5ff2-4923-9d33-947f273f746d",
        "colab": {
          "base_uri": "https://localhost:8080/"
        },
        "outputId": "84d06f4f-bff3-4e76-bebd-da08d133b675"
      },
      "outputs": [
        {
          "output_type": "execute_result",
          "data": {
            "text/plain": [
              "array([101,   1,   2,   3,   9,   9,   9,   9,   9,   9,   9,   9,   9,\n",
              "         9,   9])"
            ]
          },
          "metadata": {},
          "execution_count": 74
        }
      ],
      "source": [
        "my_array[4:] = 9\n",
        "my_array[:]"
      ]
    },
    {
      "cell_type": "markdown",
      "id": "8f1e034e-591a-4042-ac1d-171be4d2d122",
      "metadata": {
        "id": "8f1e034e-591a-4042-ac1d-171be4d2d122"
      },
      "source": [
        "slicing 2d arrays"
      ]
    },
    {
      "cell_type": "code",
      "execution_count": null,
      "id": "860f665f-b6c7-462a-b6dc-12d84fb4fd0e",
      "metadata": {
        "id": "860f665f-b6c7-462a-b6dc-12d84fb4fd0e",
        "colab": {
          "base_uri": "https://localhost:8080/"
        },
        "outputId": "5a71aee7-70f2-402e-e496-38072ec66994"
      },
      "outputs": [
        {
          "output_type": "execute_result",
          "data": {
            "text/plain": [
              "array([[1],\n",
              "       [5]])"
            ]
          },
          "metadata": {},
          "execution_count": 10
        }
      ],
      "source": [
        "A = np.array([[1, 1, 1],\n",
        "              [6, 4, 5],\n",
        "              [5, 2, 2]])\n",
        "\n",
        "A_slice = A[:2,2:]\n",
        "A_slice"
      ]
    },
    {
      "cell_type": "markdown",
      "id": "e8dd9a17-2f84-46b3-8ba0-6449fa0afa98",
      "metadata": {
        "id": "e8dd9a17-2f84-46b3-8ba0-6449fa0afa98"
      },
      "source": [
        "### Boolean Indexing"
      ]
    },
    {
      "cell_type": "code",
      "execution_count": 3,
      "id": "39f2e202-8d0b-4eab-baf2-147055c0c548",
      "metadata": {
        "id": "39f2e202-8d0b-4eab-baf2-147055c0c548"
      },
      "outputs": [],
      "source": [
        "animals = np.array([\"dog\", \"cat\", \"mouse\", \"dog\", \"cat\", \"pig\", \"fish\"])"
      ]
    },
    {
      "cell_type": "code",
      "source": [
        "rel_data = np.array([[5, 6], [9, 2], [3, 8], [7, 5], [3, 2], [-1, -40], [35, 42]])"
      ],
      "metadata": {
        "id": "eK1kbh1Nib5J"
      },
      "id": "eK1kbh1Nib5J",
      "execution_count": 4,
      "outputs": []
    },
    {
      "cell_type": "code",
      "execution_count": 5,
      "id": "c58b808f-a0b8-4842-b542-7718fa07aa5a",
      "metadata": {
        "id": "c58b808f-a0b8-4842-b542-7718fa07aa5a",
        "colab": {
          "base_uri": "https://localhost:8080/"
        },
        "outputId": "3ebe73e5-9d60-43e9-91ee-9b7add95191f"
      },
      "outputs": [
        {
          "output_type": "execute_result",
          "data": {
            "text/plain": [
              "(7, 2)"
            ]
          },
          "metadata": {},
          "execution_count": 5
        }
      ],
      "source": [
        "rel_data.shape"
      ]
    },
    {
      "cell_type": "code",
      "execution_count": 7,
      "id": "fc4f5ec6-b57a-4b4d-83e1-c5538fedd10d",
      "metadata": {
        "id": "fc4f5ec6-b57a-4b4d-83e1-c5538fedd10d",
        "colab": {
          "base_uri": "https://localhost:8080/"
        },
        "outputId": "fad98168-669b-48ac-cf62-780ecc9644eb"
      },
      "outputs": [
        {
          "output_type": "execute_result",
          "data": {
            "text/plain": [
              "array([ True, False, False,  True, False, False, False])"
            ]
          },
          "metadata": {},
          "execution_count": 7
        }
      ],
      "source": [
        "animals == \"dog\""
      ]
    },
    {
      "cell_type": "code",
      "source": [
        "animals != \"dog\""
      ],
      "metadata": {
        "colab": {
          "base_uri": "https://localhost:8080/"
        },
        "id": "WxPGvYezkGyE",
        "outputId": "4d3f2246-f841-40d1-db23-8fcb2ead5315"
      },
      "id": "WxPGvYezkGyE",
      "execution_count": 9,
      "outputs": [
        {
          "output_type": "execute_result",
          "data": {
            "text/plain": [
              "array([False,  True,  True, False,  True,  True,  True])"
            ]
          },
          "metadata": {},
          "execution_count": 9
        }
      ]
    },
    {
      "cell_type": "code",
      "execution_count": null,
      "id": "39530988-13d2-4da9-a673-74aa273d2e99",
      "metadata": {
        "id": "39530988-13d2-4da9-a673-74aa273d2e99",
        "colab": {
          "base_uri": "https://localhost:8080/"
        },
        "outputId": "2e5c2f8d-10b9-41d8-cf7e-df7408a6c812"
      },
      "outputs": [
        {
          "output_type": "execute_result",
          "data": {
            "text/plain": [
              "array([[  5,   6],\n",
              "       [ 54,   2],\n",
              "       [ 54,   8],\n",
              "       [  7,   5],\n",
              "       [ 54,   2],\n",
              "       [ 54, -40],\n",
              "       [ 54,  42]])"
            ]
          },
          "metadata": {},
          "execution_count": 78
        }
      ],
      "source": [
        "rel_data[animals != \"dog\",:1] = 54\n",
        "rel_data"
      ]
    },
    {
      "cell_type": "markdown",
      "id": "1e9cdb5d-f668-485d-8f02-e1c41a0dac69",
      "metadata": {
        "id": "1e9cdb5d-f668-485d-8f02-e1c41a0dac69"
      },
      "source": [
        "### Reshaping and Transposing"
      ]
    },
    {
      "cell_type": "code",
      "execution_count": null,
      "id": "dcfa88d9-5961-4163-bc0a-7d37c1d942b4",
      "metadata": {
        "id": "dcfa88d9-5961-4163-bc0a-7d37c1d942b4",
        "colab": {
          "base_uri": "https://localhost:8080/"
        },
        "outputId": "e90e2ef9-f367-4b96-c76d-8c18bea985c0"
      },
      "outputs": [
        {
          "output_type": "execute_result",
          "data": {
            "text/plain": [
              "array([[ 0,  1,  2,  3,  4],\n",
              "       [ 5,  6,  7,  8,  9],\n",
              "       [10, 11, 12, 13, 14],\n",
              "       [15, 16, 17, 18, 19]])"
            ]
          },
          "metadata": {},
          "execution_count": 28
        }
      ],
      "source": [
        "my_reshape_array = np.arange(20).reshape((4, 5))\n",
        "my_reshape_array"
      ]
    },
    {
      "cell_type": "code",
      "execution_count": null,
      "id": "b3167f60-a4a7-4ae3-b1e8-754c18a4dac8",
      "metadata": {
        "id": "b3167f60-a4a7-4ae3-b1e8-754c18a4dac8",
        "colab": {
          "base_uri": "https://localhost:8080/"
        },
        "outputId": "9b983e55-c9bb-4fd2-d90f-7b33a25dd221"
      },
      "outputs": [
        {
          "output_type": "execute_result",
          "data": {
            "text/plain": [
              "array([[ 0,  5, 10, 15],\n",
              "       [ 1,  6, 11, 16],\n",
              "       [ 2,  7, 12, 17],\n",
              "       [ 3,  8, 13, 18],\n",
              "       [ 4,  9, 14, 19]])"
            ]
          },
          "metadata": {},
          "execution_count": 29
        }
      ],
      "source": [
        "my_reshape_array.T"
      ]
    }
  ],
  "metadata": {
    "kernelspec": {
      "display_name": "Python 3 (ipykernel)",
      "language": "python",
      "name": "python3"
    },
    "language_info": {
      "codemirror_mode": {
        "name": "ipython",
        "version": 3
      },
      "file_extension": ".py",
      "mimetype": "text/x-python",
      "name": "python",
      "nbconvert_exporter": "python",
      "pygments_lexer": "ipython3",
      "version": "3.10.5"
    },
    "colab": {
      "provenance": []
    }
  },
  "nbformat": 4,
  "nbformat_minor": 5
}