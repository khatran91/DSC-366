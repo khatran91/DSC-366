{
  "nbformat": 4,
  "nbformat_minor": 0,
  "metadata": {
    "colab": {
      "provenance": []
    },
    "kernelspec": {
      "name": "python3",
      "display_name": "Python 3"
    },
    "language_info": {
      "name": "python"
    }
  },
  "cells": [
    {
      "cell_type": "code",
      "execution_count": null,
      "metadata": {
        "id": "jDpD9H8zSqyH"
      },
      "outputs": [],
      "source": [
        "from sklearn.feature_extraction.text import CountVectorizer\n",
        "from sklearn.naive_bayes import MultinomialNB\n",
        "from sklearn.pipeline import make_pipeline\n",
        "\n",
        "# Sample data with reviews and their corresponding sentiment labels\n",
        "data = [\n",
        "    (\"This is a great movie\", \"pos\"),\n",
        "    (\"I hated this movie\", \"neg\"),\n",
        "    (\"This was a great experience\", \"pos\"),\n",
        "    (\"I did not like the movie\", \"neg\"),\n",
        "    (\"This is a horrible movie\", \"neg\")\n",
        "]\n",
        "\n",
        "# Split data into training sentences and labels\n",
        "train_texts, train_labels = zip(*data)\n",
        "\n",
        "# Create a pipeline that performs two main tasks:\n",
        "# 1. CountVectorizer(): Converts a collection of text documents to a matrix of token counts.\n",
        "#    This implementation produces a sparse representation of the counts using scipy.sparse.csr_matrix.\n",
        "\n",
        "# 2. MultinomialNB(): Implements the naive Bayes algorithm for multinomially distributed data,\n",
        "#    and is one of the two classic naive Bayes variants used in text classification.\n",
        "# The pipeline object packages these two steps into a single unit. It behaves like a compound classifier:\n",
        "\n",
        "# First, the text data is transformed into a format that the algorithm can work with (CountVectorizer),\n",
        "# and then the transformed data is fed into the Naive Bayes classifier (MultinomialNB).\n",
        "\n",
        "model = make_pipeline(CountVectorizer(), MultinomialNB())\n",
        "\n",
        "# Training the model with the training texts and labels.\n",
        "# The pipeline first transforms the text using CountVectorizer and then fits the Naive Bayes classifier\n",
        "# with the vectorized text.\n",
        "model.fit(train_texts, train_labels)\n",
        "\n",
        "# Predicting the sentiment of new texts\n",
        "test_texts = [\"This movie was good\"]\n",
        "predictions = model.predict(test_texts)\n",
        "\n",
        "# Output the prediction\n",
        "print(f\"The review '{test_texts[0]}' is predicted to be {predictions[0]}\")\n"
      ]
    }
  ]
}