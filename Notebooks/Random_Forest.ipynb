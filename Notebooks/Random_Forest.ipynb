{
  "nbformat": 4,
  "nbformat_minor": 0,
  "metadata": {
    "colab": {
      "provenance": []
    },
    "kernelspec": {
      "name": "python3",
      "display_name": "Python 3"
    },
    "language_info": {
      "name": "python"
    }
  },
  "cells": [
    {
      "cell_type": "code",
      "execution_count": 3,
      "metadata": {
        "colab": {
          "base_uri": "https://localhost:8080/"
        },
        "id": "qeOqtF8UWGJk",
        "outputId": "65045959-13f1-4263-e407-12881872aa67"
      },
      "outputs": [
        {
          "output_type": "stream",
          "name": "stdout",
          "text": [
            "Accuracy of the Random Forest model: 97.08%\n",
            "Confusion Matrix:\n",
            "[[ 59   4]\n",
            " [  1 107]]\n"
          ]
        }
      ],
      "source": [
        "# Import necessary libraries\n",
        "from sklearn.datasets import load_breast_cancer\n",
        "from sklearn.ensemble import RandomForestClassifier\n",
        "from sklearn.model_selection import train_test_split\n",
        "from sklearn.metrics import accuracy_score, confusion_matrix\n",
        "import pandas as pd\n",
        "\n",
        "# Load the dataset\n",
        "data = load_breast_cancer()\n",
        "# Creating a DataFrame 'X' with the feature data and assigning appropriate column names from the dataset's feature names\n",
        "# This DataFrame 'X' will be used as the input features for the model.\n",
        "X = pd.DataFrame(data.data, columns=data.feature_names)\n",
        "\n",
        "\n",
        "# Creating a Series 'y' for the target variable, which indicates if the cancer is benign or malignant\n",
        "# This Series 'y' will be used as the labels for the model training.\n",
        "y = pd.Series(data.target)\n",
        "\n",
        "\n",
        "# Data preprocessing\n",
        "# Splitting the dataset into training and testing sets\n",
        "X_train, X_test, y_train, y_test = train_test_split(X, y, test_size=0.3, random_state=42)\n",
        "\n",
        "# Model Training\n",
        "# Initialize the Random Forest classifier with specified parameters\n",
        "rf = RandomForestClassifier(n_estimators=100, max_depth=10, random_state=42)\n",
        "rf.fit(X_train, y_train)\n",
        "\n",
        "# Model Evaluation\n",
        "# Making predictions and evaluating the model\n",
        "y_pred = rf.predict(X_test)\n",
        "accuracy = accuracy_score(y_test, y_pred)\n",
        "conf_matrix = confusion_matrix(y_test, y_pred)\n",
        "\n",
        "# Output the results\n",
        "print(\"Accuracy of the Random Forest model: {:.2f}%\".format(accuracy * 100))\n",
        "print(\"Confusion Matrix:\")\n",
        "print(conf_matrix)\n"
      ]
    }
  ]
}