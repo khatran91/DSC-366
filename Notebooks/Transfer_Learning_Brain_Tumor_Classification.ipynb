{
  "nbformat": 4,
  "nbformat_minor": 0,
  "metadata": {
    "kernelspec": {
      "display_name": "Python 3",
      "name": "python3"
    },
    "language_info": {
      "codemirror_mode": {
        "name": "ipython",
        "version": 3
      },
      "file_extension": ".py",
      "mimetype": "text/x-python",
      "name": "python",
      "nbconvert_exporter": "python",
      "pygments_lexer": "ipython3",
      "version": "3.7.3"
    },
    "colab": {
      "provenance": [],
      "machine_shape": "hm",
      "gpuType": "T4"
    },
    "accelerator": "GPU"
  },
  "cells": [
    {
      "cell_type": "markdown",
      "metadata": {
        "id": "3q_z5i01sog1"
      },
      "source": [
        "## Brain Tumor Classification - Training"
      ]
    },
    {
      "cell_type": "code",
      "metadata": {
        "id": "T-BrpsE4sm7X"
      },
      "source": [
        "import pandas as pd\n",
        "import numpy as np\n",
        "import os\n",
        "import tensorflow as tf\n",
        "import keras\n",
        "import matplotlib.pyplot as plt\n",
        "from tensorflow.keras.layers import Dense, GlobalAveragePooling2D\n",
        "from tensorflow.keras.applications.vgg16 import VGG16\n",
        "from tensorflow.keras.preprocessing import image\n",
        "from tensorflow.keras.applications.vgg16 import preprocess_input\n",
        "from tensorflow.keras.preprocessing.image import ImageDataGenerator\n",
        "from tensorflow.keras.models import Model\n",
        "from tensorflow.keras.optimizers import Adam"
      ],
      "execution_count": 13,
      "outputs": []
    },
    {
      "cell_type": "code",
      "metadata": {
        "id": "SWupDKtvt6bs",
        "colab": {
          "base_uri": "https://localhost:8080/"
        },
        "outputId": "c4bdef0b-4611-482d-91af-9aa221d2c237"
      },
      "source": [
        "!unzip Data.zip"
      ],
      "execution_count": 25,
      "outputs": [
        {
          "output_type": "stream",
          "name": "stdout",
          "text": [
            "Archive:  Data.zip\n",
            "   creating: Data/\n",
            "  inflating: __MACOSX/._Data         \n",
            "  inflating: Data/.DS_Store          \n",
            "  inflating: __MACOSX/Data/._.DS_Store  \n",
            "   creating: Data/no/\n",
            "  inflating: __MACOSX/Data/._no      \n",
            "   creating: Data/yes/\n",
            "  inflating: __MACOSX/Data/._yes     \n",
            "  inflating: Data/no/30 no.jpg       \n",
            "  inflating: __MACOSX/Data/no/._30 no.jpg  \n",
            "  inflating: Data/no/22 no.jpg       \n",
            "  inflating: __MACOSX/Data/no/._22 no.jpg  \n",
            "  inflating: Data/no/41 no.jpg       \n",
            "  inflating: __MACOSX/Data/no/._41 no.jpg  \n",
            "  inflating: Data/no/14 no.jpg       \n",
            "  inflating: __MACOSX/Data/no/._14 no.jpg  \n",
            "  inflating: Data/no/no 10.jpg       \n",
            "  inflating: __MACOSX/Data/no/._no 10.jpg  \n",
            "  inflating: Data/no/18 no.jpg       \n",
            "  inflating: __MACOSX/Data/no/._18 no.jpg  \n",
            "  inflating: Data/no/no 9.png        \n",
            "  inflating: __MACOSX/Data/no/._no 9.png  \n",
            "  inflating: Data/no/no 7.jpeg       \n",
            "  inflating: __MACOSX/Data/no/._no 7.jpeg  \n",
            "  inflating: Data/no/no 8.jpg        \n",
            "  inflating: __MACOSX/Data/no/._no 8.jpg  \n",
            "  inflating: Data/no/no.jpg          \n",
            "  inflating: __MACOSX/Data/no/._no.jpg  \n",
            "  inflating: Data/no/3 no.jpg        \n",
            "  inflating: __MACOSX/Data/no/._3 no.jpg  \n",
            "  inflating: Data/no/43 no.jpg       \n",
            "  inflating: __MACOSX/Data/no/._43 no.jpg  \n",
            "  inflating: Data/no/20 no.jpg       \n",
            "  inflating: __MACOSX/Data/no/._20 no.jpg  \n",
            "  inflating: Data/no/32 no.jpg       \n",
            "  inflating: __MACOSX/Data/no/._32 no.jpg  \n",
            "  inflating: Data/no/2 no.jpeg       \n",
            "  inflating: __MACOSX/Data/no/._2 no.jpeg  \n",
            "  inflating: Data/no/N15.jpg         \n",
            "  inflating: __MACOSX/Data/no/._N15.jpg  \n",
            "  inflating: Data/no/no 99.jpg       \n",
            "  inflating: __MACOSX/Data/no/._no 99.jpg  \n",
            "  inflating: Data/no/no 98.jpg       \n",
            "  inflating: __MACOSX/Data/no/._no 98.jpg  \n",
            "  inflating: Data/no/No11.jpg        \n",
            "  inflating: __MACOSX/Data/no/._No11.jpg  \n",
            "  inflating: Data/no/7 no.jpg        \n",
            "  inflating: __MACOSX/Data/no/._7 no.jpg  \n",
            "  inflating: Data/no/12 no.jpg       \n",
            "  inflating: __MACOSX/Data/no/._12 no.jpg  \n",
            "  inflating: Data/no/No13.jpg        \n",
            "  inflating: __MACOSX/Data/no/._No13.jpg  \n",
            "  inflating: Data/no/44no.jpg        \n",
            "  inflating: __MACOSX/Data/no/._44no.jpg  \n",
            "  inflating: Data/no/N16.jpg         \n",
            "  inflating: __MACOSX/Data/no/._N16.jpg  \n",
            "  inflating: Data/no/N17.jpg         \n",
            "  inflating: __MACOSX/Data/no/._N17.jpg  \n",
            "  inflating: Data/no/28 no.jpg       \n",
            "  inflating: __MACOSX/Data/no/._28 no.jpg  \n",
            "  inflating: Data/no/36 no.jpg       \n",
            "  inflating: __MACOSX/Data/no/._36 no.jpg  \n",
            "  inflating: Data/no/No12.jpg        \n",
            "  inflating: __MACOSX/Data/no/._No12.jpg  \n",
            "  inflating: Data/no/47 no.jpg       \n",
            "  inflating: __MACOSX/Data/no/._47 no.jpg  \n",
            "  inflating: Data/no/24 no.jpg       \n",
            "  inflating: __MACOSX/Data/no/._24 no.jpg  \n",
            "  inflating: Data/no/No16.jpg        \n",
            "  inflating: __MACOSX/Data/no/._No16.jpg  \n",
            "  inflating: Data/no/10 no.jpg       \n",
            "  inflating: __MACOSX/Data/no/._10 no.jpg  \n",
            "  inflating: Data/no/26 no.jpg       \n",
            "  inflating: __MACOSX/Data/no/._26 no.jpg  \n",
            "  inflating: Data/no/45 no.jpg       \n",
            "  inflating: __MACOSX/Data/no/._45 no.jpg  \n",
            "  inflating: Data/no/no 923.jpg      \n",
            "  inflating: __MACOSX/Data/no/._no 923.jpg  \n",
            "  inflating: Data/no/38 no.jpg       \n",
            "  inflating: __MACOSX/Data/no/._38 no.jpg  \n",
            "  inflating: Data/no/No17.jpg        \n",
            "  inflating: __MACOSX/Data/no/._No17.jpg  \n",
            "  inflating: Data/no/49 no.jpg       \n",
            "  inflating: __MACOSX/Data/no/._49 no.jpg  \n",
            "  inflating: Data/no/34 no.jpg       \n",
            "  inflating: __MACOSX/Data/no/._34 no.jpg  \n",
            "  inflating: Data/no/1 no.jpeg       \n",
            "  inflating: __MACOSX/Data/no/._1 no.jpeg  \n",
            "  inflating: Data/no/no 100.jpg      \n",
            "  inflating: __MACOSX/Data/no/._no 100.jpg  \n",
            "  inflating: Data/no/No15.jpg        \n",
            "  inflating: __MACOSX/Data/no/._No15.jpg  \n",
            "  inflating: Data/no/5 no.jpg        \n",
            "  inflating: __MACOSX/Data/no/._5 no.jpg  \n",
            "  inflating: Data/no/N11.jpg         \n",
            "  inflating: __MACOSX/Data/no/._N11.jpg  \n",
            "  inflating: Data/no/no 89.jpg       \n",
            "  inflating: __MACOSX/Data/no/._no 89.jpg  \n",
            "  inflating: Data/no/No14.jpg        \n",
            "  inflating: __MACOSX/Data/no/._No14.jpg  \n",
            "  inflating: Data/no/9 no.jpg        \n",
            "  inflating: __MACOSX/Data/no/._9 no.jpg  \n",
            "  inflating: Data/no/No19.jpg        \n",
            "  inflating: __MACOSX/Data/no/._No19.jpg  \n",
            "  inflating: Data/no/no 90.jpg       \n",
            "  inflating: __MACOSX/Data/no/._no 90.jpg  \n",
            "  inflating: Data/no/N20.JPG         \n",
            "  inflating: __MACOSX/Data/no/._N20.JPG  \n",
            "  inflating: Data/no/N21.jpg         \n",
            "  inflating: __MACOSX/Data/no/._N21.jpg  \n",
            "  inflating: Data/no/No18.jpg        \n",
            "  inflating: __MACOSX/Data/no/._No18.jpg  \n",
            "  inflating: Data/no/15 no.jpg       \n",
            "  inflating: __MACOSX/Data/no/._15 no.jpg  \n",
            "  inflating: Data/no/19 no.jpg       \n",
            "  inflating: __MACOSX/Data/no/._19 no.jpg  \n",
            "  inflating: Data/no/N22.JPG         \n",
            "  inflating: __MACOSX/Data/no/._N22.JPG  \n",
            "  inflating: Data/no/no 92.jpg       \n",
            "  inflating: __MACOSX/Data/no/._no 92.jpg  \n",
            "  inflating: Data/no/31 no.jpg       \n",
            "  inflating: __MACOSX/Data/no/._31 no.jpg  \n",
            "  inflating: Data/no/40 no.jpg       \n",
            "  inflating: __MACOSX/Data/no/._40 no.jpg  \n",
            "  inflating: Data/no/23 no.jpg       \n",
            "  inflating: __MACOSX/Data/no/._23 no.jpg  \n",
            "  inflating: Data/no/17 no.jpg       \n",
            "  inflating: __MACOSX/Data/no/._17 no.jpg  \n",
            "  inflating: Data/no/N26.JPG         \n",
            "  inflating: __MACOSX/Data/no/._N26.JPG  \n",
            "  inflating: Data/no/no 96.jpg       \n",
            "  inflating: __MACOSX/Data/no/._no 96.jpg  \n",
            "  inflating: Data/no/no 97.jpg       \n",
            "  inflating: __MACOSX/Data/no/._no 97.jpg  \n",
            "  inflating: Data/no/21 no.jpg       \n",
            "  inflating: __MACOSX/Data/no/._21 no.jpg  \n",
            "  inflating: Data/no/42 no.jpg       \n",
            "  inflating: __MACOSX/Data/no/._42 no.jpg  \n",
            "  inflating: Data/no/No22.jpg        \n",
            "  inflating: __MACOSX/Data/no/._No22.jpg  \n",
            "  inflating: Data/no/33 no.jpg       \n",
            "  inflating: __MACOSX/Data/no/._33 no.jpg  \n",
            "  inflating: Data/no/50 no.jpg       \n",
            "  inflating: __MACOSX/Data/no/._50 no.jpg  \n",
            "  inflating: Data/no/No20.jpg        \n",
            "  inflating: __MACOSX/Data/no/._No20.jpg  \n",
            "  inflating: Data/no/no 95.jpg       \n",
            "  inflating: __MACOSX/Data/no/._no 95.jpg  \n",
            "  inflating: Data/no/N19.JPG         \n",
            "  inflating: __MACOSX/Data/no/._N19.JPG  \n",
            "  inflating: Data/no/no 94.jpg       \n",
            "  inflating: __MACOSX/Data/no/._no 94.jpg  \n",
            "  inflating: Data/no/No21.jpg        \n",
            "  inflating: __MACOSX/Data/no/._No21.jpg  \n",
            "  inflating: Data/no/37 no.jpg       \n",
            "  inflating: __MACOSX/Data/no/._37 no.jpg  \n",
            "  inflating: Data/no/N6.jpg          \n",
            "  inflating: __MACOSX/Data/no/._N6.jpg  \n",
            "  inflating: Data/no/29 no.jpg       \n",
            "  inflating: __MACOSX/Data/no/._29 no.jpg  \n",
            "  inflating: Data/no/25 no.jpg       \n",
            "  inflating: __MACOSX/Data/no/._25 no.jpg  \n",
            "  inflating: Data/no/no 91.jpeg      \n",
            "  inflating: __MACOSX/Data/no/._no 91.jpeg  \n",
            "  inflating: Data/no/no 3.jpg        \n",
            "  inflating: __MACOSX/Data/no/._no 3.jpg  \n",
            "  inflating: Data/no/46 no.jpg       \n",
            "  inflating: __MACOSX/Data/no/._46 no.jpg  \n",
            "  inflating: Data/no/no 2.jpg        \n",
            "  inflating: __MACOSX/Data/no/._no 2.jpg  \n",
            "  inflating: Data/no/13 no.jpg       \n",
            "  inflating: __MACOSX/Data/no/._13 no.jpg  \n",
            "  inflating: Data/no/N5.jpg          \n",
            "  inflating: __MACOSX/Data/no/._N5.jpg  \n",
            "  inflating: Data/no/6 no.jpg        \n",
            "  inflating: __MACOSX/Data/no/._6 no.jpg  \n",
            "  inflating: Data/no/no 1.jpg        \n",
            "  inflating: __MACOSX/Data/no/._no 1.jpg  \n",
            "  inflating: Data/no/no 5.jpeg       \n",
            "  inflating: __MACOSX/Data/no/._no 5.jpeg  \n",
            "  inflating: Data/no/4 no.jpg        \n",
            "  inflating: __MACOSX/Data/no/._4 no.jpg  \n",
            "  inflating: Data/no/8 no.jpg        \n",
            "  inflating: __MACOSX/Data/no/._8 no.jpg  \n",
            "  inflating: Data/no/no 4.jpg        \n",
            "  inflating: __MACOSX/Data/no/._no 4.jpg  \n",
            "  inflating: Data/no/N1.JPG          \n",
            "  inflating: __MACOSX/Data/no/._N1.JPG  \n",
            "  inflating: Data/no/39 no.jpg       \n",
            "  inflating: __MACOSX/Data/no/._39 no.jpg  \n",
            "  inflating: Data/no/N3.jpg          \n",
            "  inflating: __MACOSX/Data/no/._N3.jpg  \n",
            "  inflating: Data/no/27 no.jpg       \n",
            "  inflating: __MACOSX/Data/no/._27 no.jpg  \n",
            "  inflating: Data/no/35 no.jpg       \n",
            "  inflating: __MACOSX/Data/no/._35 no.jpg  \n",
            "  inflating: Data/no/no 6.jpg        \n",
            "  inflating: __MACOSX/Data/no/._no 6.jpg  \n",
            "  inflating: Data/no/48 no.jpeg      \n",
            "  inflating: __MACOSX/Data/no/._48 no.jpeg  \n",
            "  inflating: Data/no/11 no.jpg       \n",
            "  inflating: __MACOSX/Data/no/._11 no.jpg  \n",
            "  inflating: Data/no/N2.JPG          \n",
            "  inflating: __MACOSX/Data/no/._N2.JPG  \n",
            "  inflating: Data/yes/Y157.JPG       \n",
            "  inflating: __MACOSX/Data/yes/._Y157.JPG  \n",
            "  inflating: Data/yes/Y6.jpg         \n",
            "  inflating: __MACOSX/Data/yes/._Y6.jpg  \n",
            "  inflating: Data/yes/Y194.jpg       \n",
            "  inflating: __MACOSX/Data/yes/._Y194.jpg  \n",
            "  inflating: Data/yes/Y180.jpg       \n",
            "  inflating: __MACOSX/Data/yes/._Y180.jpg  \n",
            "  inflating: Data/yes/Y90.jpg        \n",
            "  inflating: __MACOSX/Data/yes/._Y90.jpg  \n",
            "  inflating: Data/yes/Y47.JPG        \n",
            "  inflating: __MACOSX/Data/yes/._Y47.JPG  \n",
            "  inflating: Data/yes/Y53.jpg        \n",
            "  inflating: __MACOSX/Data/yes/._Y53.jpg  \n",
            "  inflating: Data/yes/Y52.jpg        \n",
            "  inflating: __MACOSX/Data/yes/._Y52.jpg  \n",
            "  inflating: Data/yes/Y46.jpg        \n",
            "  inflating: __MACOSX/Data/yes/._Y46.jpg  \n",
            "  inflating: Data/yes/Y91.jpg        \n",
            "  inflating: __MACOSX/Data/yes/._Y91.jpg  \n",
            "  inflating: Data/yes/Y85.JPG        \n",
            "  inflating: __MACOSX/Data/yes/._Y85.JPG  \n",
            "  inflating: Data/yes/Y181.jpg       \n",
            "  inflating: __MACOSX/Data/yes/._Y181.jpg  \n",
            "  inflating: Data/yes/Y195.JPG       \n",
            "  inflating: __MACOSX/Data/yes/._Y195.JPG  \n",
            "  inflating: Data/yes/Y7.jpg         \n",
            "  inflating: __MACOSX/Data/yes/._Y7.jpg  \n",
            "  inflating: Data/yes/Y156.JPG       \n",
            "  inflating: __MACOSX/Data/yes/._Y156.JPG  \n",
            "  inflating: Data/yes/Y168.jpg       \n",
            "  inflating: __MACOSX/Data/yes/._Y168.jpg  \n",
            "  inflating: Data/yes/Y154.jpg       \n",
            "  inflating: __MACOSX/Data/yes/._Y154.jpg  \n",
            "  inflating: Data/yes/Y183.jpg       \n",
            "  inflating: __MACOSX/Data/yes/._Y183.jpg  \n",
            "  inflating: Data/yes/Y78.jpg        \n",
            "  inflating: __MACOSX/Data/yes/._Y78.jpg  \n",
            "  inflating: Data/yes/Y50.JPG        \n",
            "  inflating: __MACOSX/Data/yes/._Y50.JPG  \n",
            "  inflating: Data/yes/Y44.JPG        \n",
            "  inflating: __MACOSX/Data/yes/._Y44.JPG  \n",
            "  inflating: Data/yes/Y45.JPG        \n",
            "  inflating: __MACOSX/Data/yes/._Y45.JPG  \n",
            "  inflating: Data/yes/Y51.jpg        \n",
            "  inflating: __MACOSX/Data/yes/._Y51.jpg  \n",
            "  inflating: Data/yes/Y79.jpg        \n",
            "  inflating: __MACOSX/Data/yes/._Y79.jpg  \n",
            "  inflating: Data/yes/Y86.JPG        \n",
            "  inflating: __MACOSX/Data/yes/._Y86.JPG  \n",
            "  inflating: Data/yes/Y92.jpg        \n",
            "  inflating: __MACOSX/Data/yes/._Y92.jpg  \n",
            "  inflating: Data/yes/Y92.png        \n",
            "  inflating: __MACOSX/Data/yes/._Y92.png  \n",
            "  inflating: Data/yes/Y182.JPG       \n",
            "  inflating: __MACOSX/Data/yes/._Y182.JPG  \n",
            "  inflating: Data/yes/Y155.JPG       \n",
            "  inflating: __MACOSX/Data/yes/._Y155.JPG  \n",
            "  inflating: Data/yes/Y4.jpg         \n",
            "  inflating: __MACOSX/Data/yes/._Y4.jpg  \n",
            "  inflating: Data/yes/Y169.jpg       \n",
            "  inflating: __MACOSX/Data/yes/._Y169.jpg  \n",
            "  inflating: Data/yes/Y186.jpg       \n",
            "  inflating: __MACOSX/Data/yes/._Y186.jpg  \n",
            "  inflating: Data/yes/Y192.JPG       \n",
            "  inflating: __MACOSX/Data/yes/._Y192.JPG  \n",
            "  inflating: Data/yes/Y96.jpg        \n",
            "  inflating: __MACOSX/Data/yes/._Y96.jpg  \n",
            "  inflating: Data/yes/Y82.jpg        \n",
            "  inflating: __MACOSX/Data/yes/._Y82.jpg  \n",
            "  inflating: Data/yes/Y55.jpg        \n",
            "  inflating: __MACOSX/Data/yes/._Y55.jpg  \n",
            "  inflating: Data/yes/Y41.jpg        \n",
            "  inflating: __MACOSX/Data/yes/._Y41.jpg  \n",
            "  inflating: Data/yes/Y69.jpg        \n",
            "  inflating: __MACOSX/Data/yes/._Y69.jpg  \n",
            "  inflating: Data/yes/Y40.JPG        \n",
            "  inflating: __MACOSX/Data/yes/._Y40.JPG  \n",
            "  inflating: Data/yes/Y54.jpg        \n",
            "  inflating: __MACOSX/Data/yes/._Y54.jpg  \n",
            "  inflating: Data/yes/Y97.JPG        \n",
            "  inflating: __MACOSX/Data/yes/._Y97.JPG  \n",
            "  inflating: Data/yes/Y193.JPG       \n",
            "  inflating: __MACOSX/Data/yes/._Y193.JPG  \n",
            "  inflating: Data/yes/Y187.jpg       \n",
            "  inflating: __MACOSX/Data/yes/._Y187.jpg  \n",
            "  inflating: Data/yes/Y1.jpg         \n",
            "  inflating: __MACOSX/Data/yes/._Y1.jpg  \n",
            "  inflating: Data/yes/Y3.jpg         \n",
            "  inflating: __MACOSX/Data/yes/._Y3.jpg  \n",
            "  inflating: Data/yes/Y146.JPG       \n",
            "  inflating: __MACOSX/Data/yes/._Y146.JPG  \n",
            "  inflating: Data/yes/Y185.jpg       \n",
            "  inflating: __MACOSX/Data/yes/._Y185.jpg  \n",
            "  inflating: Data/yes/Y81.jpg        \n",
            "  inflating: __MACOSX/Data/yes/._Y81.jpg  \n",
            "  inflating: Data/yes/Y95.jpg        \n",
            "  inflating: __MACOSX/Data/yes/._Y95.jpg  \n",
            "  inflating: Data/yes/Y42.jpg        \n",
            "  inflating: __MACOSX/Data/yes/._Y42.jpg  \n",
            "  inflating: Data/yes/Y56.jpg        \n",
            "  inflating: __MACOSX/Data/yes/._Y56.jpg  \n",
            "  inflating: Data/yes/Y184.JPG       \n",
            "  inflating: __MACOSX/Data/yes/._Y184.JPG  \n",
            "  inflating: Data/yes/Y2.jpg         \n",
            "  inflating: __MACOSX/Data/yes/._Y2.jpg  \n",
            "  inflating: Data/yes/Y147.JPG       \n",
            "  inflating: __MACOSX/Data/yes/._Y147.JPG  \n",
            "  inflating: Data/yes/Y153.jpg       \n",
            "  inflating: __MACOSX/Data/yes/._Y153.jpg  \n",
            "  inflating: Data/yes/Y108.jpg       \n",
            "  inflating: __MACOSX/Data/yes/._Y108.jpg  \n",
            "  inflating: Data/yes/Y120.JPG       \n",
            "  inflating: __MACOSX/Data/yes/._Y120.JPG  \n",
            "  inflating: Data/yes/Y242.JPG       \n",
            "  inflating: __MACOSX/Data/yes/._Y242.JPG  \n",
            "  inflating: Data/yes/Y256.JPG       \n",
            "  inflating: __MACOSX/Data/yes/._Y256.JPG  \n",
            "  inflating: Data/yes/Y18.JPG        \n",
            "  inflating: __MACOSX/Data/yes/._Y18.JPG  \n",
            "  inflating: Data/yes/Y24.jpg        \n",
            "  inflating: __MACOSX/Data/yes/._Y24.jpg  \n",
            "  inflating: Data/yes/Y30.jpg        \n",
            "  inflating: __MACOSX/Data/yes/._Y30.jpg  \n",
            "  inflating: Data/yes/Y31.jpg        \n",
            "  inflating: __MACOSX/Data/yes/._Y31.jpg  \n",
            "  inflating: Data/yes/Y25.jpg        \n",
            "  inflating: __MACOSX/Data/yes/._Y25.jpg  \n",
            "  inflating: Data/yes/Y19.JPG        \n",
            "  inflating: __MACOSX/Data/yes/._Y19.JPG  \n",
            "  inflating: Data/yes/Y257.jpg       \n",
            "  inflating: __MACOSX/Data/yes/._Y257.jpg  \n",
            "  inflating: Data/yes/Y243.JPG       \n",
            "  inflating: __MACOSX/Data/yes/._Y243.JPG  \n",
            "  inflating: Data/yes/Y109.JPG       \n",
            "  inflating: __MACOSX/Data/yes/._Y109.JPG  \n",
            "  inflating: Data/yes/Y255.JPG       \n",
            "  inflating: __MACOSX/Data/yes/._Y255.JPG  \n",
            "  inflating: Data/yes/Y33.jpg        \n",
            "  inflating: __MACOSX/Data/yes/._Y33.jpg  \n",
            "  inflating: Data/yes/Y27.jpg        \n",
            "  inflating: __MACOSX/Data/yes/._Y27.jpg  \n",
            "  inflating: Data/yes/Y26.jpg        \n",
            "  inflating: __MACOSX/Data/yes/._Y26.jpg  \n",
            "  inflating: Data/yes/Y32.jpg        \n",
            "  inflating: __MACOSX/Data/yes/._Y32.jpg  \n",
            "  inflating: Data/yes/Y254.jpg       \n",
            "  inflating: __MACOSX/Data/yes/._Y254.jpg  \n",
            "  inflating: Data/yes/Y250.jpg       \n",
            "  inflating: __MACOSX/Data/yes/._Y250.jpg  \n",
            "  inflating: Data/yes/Y244.JPG       \n",
            "  inflating: __MACOSX/Data/yes/._Y244.JPG  \n",
            "  inflating: Data/yes/Y36.JPG        \n",
            "  inflating: __MACOSX/Data/yes/._Y36.JPG  \n",
            "  inflating: Data/yes/Y22.jpg        \n",
            "  inflating: __MACOSX/Data/yes/._Y22.jpg  \n",
            "  inflating: Data/yes/Y23.JPG        \n",
            "  inflating: __MACOSX/Data/yes/._Y23.JPG  \n",
            "  inflating: Data/yes/Y37.jpg        \n",
            "  inflating: __MACOSX/Data/yes/._Y37.jpg  \n",
            "  inflating: Data/yes/Y245.jpg       \n",
            "  inflating: __MACOSX/Data/yes/._Y245.jpg  \n",
            "  inflating: Data/yes/Y251.JPG       \n",
            "  inflating: __MACOSX/Data/yes/._Y251.JPG  \n",
            "  inflating: Data/yes/Y247.JPG       \n",
            "  inflating: __MACOSX/Data/yes/._Y247.JPG  \n",
            "  inflating: Data/yes/Y253.JPG       \n",
            "  inflating: __MACOSX/Data/yes/._Y253.JPG  \n",
            "  inflating: Data/yes/Y21.jpg        \n",
            "  inflating: __MACOSX/Data/yes/._Y21.jpg  \n",
            "  inflating: Data/yes/Y35.jpg        \n",
            "  inflating: __MACOSX/Data/yes/._Y35.jpg  \n",
            "  inflating: Data/yes/Y34.jpg        \n",
            "  inflating: __MACOSX/Data/yes/._Y34.jpg  \n",
            "  inflating: Data/yes/Y20.jpg        \n",
            "  inflating: __MACOSX/Data/yes/._Y20.jpg  \n",
            "  inflating: Data/yes/Y252.jpg       \n",
            "  inflating: __MACOSX/Data/yes/._Y252.jpg  \n",
            "  inflating: Data/yes/Y246.JPG       \n",
            "  inflating: __MACOSX/Data/yes/._Y246.JPG  \n",
            "  inflating: Data/yes/Y115.JPG       \n",
            "  inflating: __MACOSX/Data/yes/._Y115.JPG  \n",
            "  inflating: Data/yes/Y101.jpg       \n",
            "  inflating: __MACOSX/Data/yes/._Y101.jpg  \n",
            "  inflating: Data/yes/Y39.jpg        \n",
            "  inflating: __MACOSX/Data/yes/._Y39.jpg  \n",
            "  inflating: Data/yes/Y11.jpg        \n",
            "  inflating: __MACOSX/Data/yes/._Y11.jpg  \n",
            "  inflating: Data/yes/Y10.jpg        \n",
            "  inflating: __MACOSX/Data/yes/._Y10.jpg  \n",
            "  inflating: Data/yes/Y38.jpg        \n",
            "  inflating: __MACOSX/Data/yes/._Y38.jpg  \n",
            "  inflating: Data/yes/Y100.JPG       \n",
            "  inflating: __MACOSX/Data/yes/._Y100.JPG  \n",
            "  inflating: Data/yes/Y114.JPG       \n",
            "  inflating: __MACOSX/Data/yes/._Y114.JPG  \n",
            "  inflating: Data/yes/Y102.jpg       \n",
            "  inflating: __MACOSX/Data/yes/._Y102.jpg  \n",
            "  inflating: Data/yes/Y116.JPG       \n",
            "  inflating: __MACOSX/Data/yes/._Y116.JPG  \n",
            "  inflating: Data/yes/Y248.JPG       \n",
            "  inflating: __MACOSX/Data/yes/._Y248.JPG  \n",
            "  inflating: Data/yes/Y12.jpg        \n",
            "  inflating: __MACOSX/Data/yes/._Y12.jpg  \n",
            "  inflating: Data/yes/Y13.jpg        \n",
            "  inflating: __MACOSX/Data/yes/._Y13.jpg  \n",
            "  inflating: Data/yes/Y249.JPG       \n",
            "  inflating: __MACOSX/Data/yes/._Y249.JPG  \n",
            "  inflating: Data/yes/Y117.JPG       \n",
            "  inflating: __MACOSX/Data/yes/._Y117.JPG  \n",
            "  inflating: Data/yes/Y103.jpg       \n",
            "  inflating: __MACOSX/Data/yes/._Y103.jpg  \n",
            "  inflating: Data/yes/Y107.jpg       \n",
            "  inflating: __MACOSX/Data/yes/._Y107.jpg  \n",
            "  inflating: Data/yes/Y113.JPG       \n",
            "  inflating: __MACOSX/Data/yes/._Y113.JPG  \n",
            "  inflating: Data/yes/Y259.JPG       \n",
            "  inflating: __MACOSX/Data/yes/._Y259.JPG  \n",
            "  inflating: Data/yes/Y17.jpg        \n",
            "  inflating: __MACOSX/Data/yes/._Y17.jpg  \n",
            "  inflating: Data/yes/Y16.JPG        \n",
            "  inflating: __MACOSX/Data/yes/._Y16.JPG  \n",
            "  inflating: Data/yes/Y258.JPG       \n",
            "  inflating: __MACOSX/Data/yes/._Y258.JPG  \n",
            "  inflating: Data/yes/Y112.JPG       \n",
            "  inflating: __MACOSX/Data/yes/._Y112.JPG  \n",
            "  inflating: Data/yes/Y106.jpg       \n",
            "  inflating: __MACOSX/Data/yes/._Y106.jpg  \n",
            "  inflating: Data/yes/Y104.jpg       \n",
            "  inflating: __MACOSX/Data/yes/._Y104.jpg  \n",
            "  inflating: Data/yes/Y14.jpg        \n",
            "  inflating: __MACOSX/Data/yes/._Y14.jpg  \n",
            "  inflating: Data/yes/Y28.jpg        \n",
            "  inflating: __MACOSX/Data/yes/._Y28.jpg  \n",
            "  inflating: Data/yes/Y29.jpg        \n",
            "  inflating: __MACOSX/Data/yes/._Y29.jpg  \n",
            "  inflating: Data/yes/Y15.jpg        \n",
            "  inflating: __MACOSX/Data/yes/._Y15.jpg  \n",
            "  inflating: Data/yes/Y105.jpg       \n",
            "  inflating: __MACOSX/Data/yes/._Y105.jpg  \n",
            "  inflating: Data/yes/Y111.JPG       \n",
            "  inflating: __MACOSX/Data/yes/._Y111.JPG  \n",
            "  inflating: Data/yes/Y162.jpg       \n",
            "  inflating: __MACOSX/Data/yes/._Y162.jpg  \n",
            "  inflating: Data/yes/Y99.JPG        \n",
            "  inflating: __MACOSX/Data/yes/._Y99.JPG  \n",
            "  inflating: Data/yes/Y66.JPG        \n",
            "  inflating: __MACOSX/Data/yes/._Y66.JPG  \n",
            "  inflating: Data/yes/Y73.jpg        \n",
            "  inflating: __MACOSX/Data/yes/._Y73.jpg  \n",
            "  inflating: Data/yes/Y67.JPG        \n",
            "  inflating: __MACOSX/Data/yes/._Y67.JPG  \n",
            "  inflating: Data/yes/Y98.JPG        \n",
            "  inflating: __MACOSX/Data/yes/._Y98.JPG  \n",
            "  inflating: Data/yes/Y188.jpg       \n",
            "  inflating: __MACOSX/Data/yes/._Y188.jpg  \n",
            "  inflating: Data/yes/Y163.JPG       \n",
            "  inflating: __MACOSX/Data/yes/._Y163.JPG  \n",
            "  inflating: Data/yes/Y161.JPG       \n",
            "  inflating: __MACOSX/Data/yes/._Y161.JPG  \n",
            "  inflating: Data/yes/Y59.JPG        \n",
            "  inflating: __MACOSX/Data/yes/._Y59.JPG  \n",
            "  inflating: Data/yes/Y71.JPG        \n",
            "  inflating: __MACOSX/Data/yes/._Y71.JPG  \n",
            "  inflating: Data/yes/Y65.JPG        \n",
            "  inflating: __MACOSX/Data/yes/._Y65.JPG  \n",
            "  inflating: Data/yes/Y70.jpg        \n",
            "  inflating: __MACOSX/Data/yes/._Y70.jpg  \n",
            "  inflating: Data/yes/Y58.JPG        \n",
            "  inflating: __MACOSX/Data/yes/._Y58.JPG  \n",
            "  inflating: Data/yes/Y160.JPG       \n",
            "  inflating: __MACOSX/Data/yes/._Y160.JPG  \n",
            "  inflating: Data/yes/Y148.JPG       \n",
            "  inflating: __MACOSX/Data/yes/._Y148.JPG  \n",
            "  inflating: Data/yes/Y164.JPG       \n",
            "  inflating: __MACOSX/Data/yes/._Y164.JPG  \n",
            "  inflating: Data/yes/Y170.JPG       \n",
            "  inflating: __MACOSX/Data/yes/._Y170.JPG  \n",
            "  inflating: Data/yes/Y158.JPG       \n",
            "  inflating: __MACOSX/Data/yes/._Y158.JPG  \n",
            "  inflating: Data/yes/Y9.jpg         \n",
            "  inflating: __MACOSX/Data/yes/._Y9.jpg  \n",
            "  inflating: Data/yes/Y74.jpg        \n",
            "  inflating: __MACOSX/Data/yes/._Y74.jpg  \n",
            "  inflating: Data/yes/Y60.jpg        \n",
            "  inflating: __MACOSX/Data/yes/._Y60.jpg  \n",
            "  inflating: Data/yes/Y49.JPG        \n",
            "  inflating: __MACOSX/Data/yes/._Y49.JPG  \n",
            "  inflating: Data/yes/Y61.jpg        \n",
            "  inflating: __MACOSX/Data/yes/._Y61.jpg  \n",
            "  inflating: Data/yes/Y75.JPG        \n",
            "  inflating: __MACOSX/Data/yes/._Y75.JPG  \n",
            "  inflating: Data/yes/Y8.jpg         \n",
            "  inflating: __MACOSX/Data/yes/._Y8.jpg  \n",
            "  inflating: Data/yes/Y159.JPG       \n",
            "  inflating: __MACOSX/Data/yes/._Y159.JPG  \n",
            "  inflating: Data/yes/Y165.JPG       \n",
            "  inflating: __MACOSX/Data/yes/._Y165.JPG  \n",
            "  inflating: Data/yes/Y167.JPG       \n",
            "  inflating: __MACOSX/Data/yes/._Y167.JPG  \n",
            "  inflating: Data/yes/Y77.jpg        \n",
            "  inflating: __MACOSX/Data/yes/._Y77.jpg  \n",
            "  inflating: Data/yes/Y76.jpg        \n",
            "  inflating: __MACOSX/Data/yes/._Y76.jpg  \n",
            "  inflating: Data/yes/Y62.jpg        \n",
            "  inflating: __MACOSX/Data/yes/._Y62.jpg  \n",
            "  inflating: Data/yes/Y89.JPG        \n",
            "  inflating: __MACOSX/Data/yes/._Y89.JPG  \n",
            "  inflating: Data/yes/Y166.JPG       \n",
            "  inflating: __MACOSX/Data/yes/._Y166.JPG  \n"
          ]
        }
      ]
    },
    {
      "cell_type": "code",
      "metadata": {
        "id": "W_D4ICC7GDod"
      },
      "source": [
        "image_dimension = [224,224]\n",
        "dataset_path = 'Data'"
      ],
      "execution_count": 26,
      "outputs": []
    },
    {
      "cell_type": "code",
      "metadata": {
        "id": "M0UjvAYQGDod"
      },
      "source": [
        "VGG_model = VGG16(input_shape= image_dimension+[3],weights='imagenet',include_top=False)"
      ],
      "execution_count": 27,
      "outputs": []
    },
    {
      "cell_type": "code",
      "metadata": {
        "colab": {
          "base_uri": "https://localhost:8080/",
          "height": 737
        },
        "id": "MTm-xTLSGDoe",
        "outputId": "bdb9cb59-b991-45fb-81f5-b6e6c03e813b"
      },
      "source": [
        "VGG_model.summary()"
      ],
      "execution_count": 28,
      "outputs": [
        {
          "output_type": "display_data",
          "data": {
            "text/plain": [
              "\u001b[1mModel: \"vgg16\"\u001b[0m\n"
            ],
            "text/html": [
              "<pre style=\"white-space:pre;overflow-x:auto;line-height:normal;font-family:Menlo,'DejaVu Sans Mono',consolas,'Courier New',monospace\"><span style=\"font-weight: bold\">Model: \"vgg16\"</span>\n",
              "</pre>\n"
            ]
          },
          "metadata": {}
        },
        {
          "output_type": "display_data",
          "data": {
            "text/plain": [
              "┏━━━━━━━━━━━━━━━━━━━━━━━━━━━━━━━━━━━━━━┳━━━━━━━━━━━━━━━━━━━━━━━━━━━━━┳━━━━━━━━━━━━━━━━━┓\n",
              "┃\u001b[1m \u001b[0m\u001b[1mLayer (type)                        \u001b[0m\u001b[1m \u001b[0m┃\u001b[1m \u001b[0m\u001b[1mOutput Shape               \u001b[0m\u001b[1m \u001b[0m┃\u001b[1m \u001b[0m\u001b[1m        Param #\u001b[0m\u001b[1m \u001b[0m┃\n",
              "┡━━━━━━━━━━━━━━━━━━━━━━━━━━━━━━━━━━━━━━╇━━━━━━━━━━━━━━━━━━━━━━━━━━━━━╇━━━━━━━━━━━━━━━━━┩\n",
              "│ input_layer_2 (\u001b[38;5;33mInputLayer\u001b[0m)           │ (\u001b[38;5;45mNone\u001b[0m, \u001b[38;5;34m224\u001b[0m, \u001b[38;5;34m224\u001b[0m, \u001b[38;5;34m3\u001b[0m)         │               \u001b[38;5;34m0\u001b[0m │\n",
              "├──────────────────────────────────────┼─────────────────────────────┼─────────────────┤\n",
              "│ block1_conv1 (\u001b[38;5;33mConv2D\u001b[0m)                │ (\u001b[38;5;45mNone\u001b[0m, \u001b[38;5;34m224\u001b[0m, \u001b[38;5;34m224\u001b[0m, \u001b[38;5;34m64\u001b[0m)        │           \u001b[38;5;34m1,792\u001b[0m │\n",
              "├──────────────────────────────────────┼─────────────────────────────┼─────────────────┤\n",
              "│ block1_conv2 (\u001b[38;5;33mConv2D\u001b[0m)                │ (\u001b[38;5;45mNone\u001b[0m, \u001b[38;5;34m224\u001b[0m, \u001b[38;5;34m224\u001b[0m, \u001b[38;5;34m64\u001b[0m)        │          \u001b[38;5;34m36,928\u001b[0m │\n",
              "├──────────────────────────────────────┼─────────────────────────────┼─────────────────┤\n",
              "│ block1_pool (\u001b[38;5;33mMaxPooling2D\u001b[0m)           │ (\u001b[38;5;45mNone\u001b[0m, \u001b[38;5;34m112\u001b[0m, \u001b[38;5;34m112\u001b[0m, \u001b[38;5;34m64\u001b[0m)        │               \u001b[38;5;34m0\u001b[0m │\n",
              "├──────────────────────────────────────┼─────────────────────────────┼─────────────────┤\n",
              "│ block2_conv1 (\u001b[38;5;33mConv2D\u001b[0m)                │ (\u001b[38;5;45mNone\u001b[0m, \u001b[38;5;34m112\u001b[0m, \u001b[38;5;34m112\u001b[0m, \u001b[38;5;34m128\u001b[0m)       │          \u001b[38;5;34m73,856\u001b[0m │\n",
              "├──────────────────────────────────────┼─────────────────────────────┼─────────────────┤\n",
              "│ block2_conv2 (\u001b[38;5;33mConv2D\u001b[0m)                │ (\u001b[38;5;45mNone\u001b[0m, \u001b[38;5;34m112\u001b[0m, \u001b[38;5;34m112\u001b[0m, \u001b[38;5;34m128\u001b[0m)       │         \u001b[38;5;34m147,584\u001b[0m │\n",
              "├──────────────────────────────────────┼─────────────────────────────┼─────────────────┤\n",
              "│ block2_pool (\u001b[38;5;33mMaxPooling2D\u001b[0m)           │ (\u001b[38;5;45mNone\u001b[0m, \u001b[38;5;34m56\u001b[0m, \u001b[38;5;34m56\u001b[0m, \u001b[38;5;34m128\u001b[0m)         │               \u001b[38;5;34m0\u001b[0m │\n",
              "├──────────────────────────────────────┼─────────────────────────────┼─────────────────┤\n",
              "│ block3_conv1 (\u001b[38;5;33mConv2D\u001b[0m)                │ (\u001b[38;5;45mNone\u001b[0m, \u001b[38;5;34m56\u001b[0m, \u001b[38;5;34m56\u001b[0m, \u001b[38;5;34m256\u001b[0m)         │         \u001b[38;5;34m295,168\u001b[0m │\n",
              "├──────────────────────────────────────┼─────────────────────────────┼─────────────────┤\n",
              "│ block3_conv2 (\u001b[38;5;33mConv2D\u001b[0m)                │ (\u001b[38;5;45mNone\u001b[0m, \u001b[38;5;34m56\u001b[0m, \u001b[38;5;34m56\u001b[0m, \u001b[38;5;34m256\u001b[0m)         │         \u001b[38;5;34m590,080\u001b[0m │\n",
              "├──────────────────────────────────────┼─────────────────────────────┼─────────────────┤\n",
              "│ block3_conv3 (\u001b[38;5;33mConv2D\u001b[0m)                │ (\u001b[38;5;45mNone\u001b[0m, \u001b[38;5;34m56\u001b[0m, \u001b[38;5;34m56\u001b[0m, \u001b[38;5;34m256\u001b[0m)         │         \u001b[38;5;34m590,080\u001b[0m │\n",
              "├──────────────────────────────────────┼─────────────────────────────┼─────────────────┤\n",
              "│ block3_pool (\u001b[38;5;33mMaxPooling2D\u001b[0m)           │ (\u001b[38;5;45mNone\u001b[0m, \u001b[38;5;34m28\u001b[0m, \u001b[38;5;34m28\u001b[0m, \u001b[38;5;34m256\u001b[0m)         │               \u001b[38;5;34m0\u001b[0m │\n",
              "├──────────────────────────────────────┼─────────────────────────────┼─────────────────┤\n",
              "│ block4_conv1 (\u001b[38;5;33mConv2D\u001b[0m)                │ (\u001b[38;5;45mNone\u001b[0m, \u001b[38;5;34m28\u001b[0m, \u001b[38;5;34m28\u001b[0m, \u001b[38;5;34m512\u001b[0m)         │       \u001b[38;5;34m1,180,160\u001b[0m │\n",
              "├──────────────────────────────────────┼─────────────────────────────┼─────────────────┤\n",
              "│ block4_conv2 (\u001b[38;5;33mConv2D\u001b[0m)                │ (\u001b[38;5;45mNone\u001b[0m, \u001b[38;5;34m28\u001b[0m, \u001b[38;5;34m28\u001b[0m, \u001b[38;5;34m512\u001b[0m)         │       \u001b[38;5;34m2,359,808\u001b[0m │\n",
              "├──────────────────────────────────────┼─────────────────────────────┼─────────────────┤\n",
              "│ block4_conv3 (\u001b[38;5;33mConv2D\u001b[0m)                │ (\u001b[38;5;45mNone\u001b[0m, \u001b[38;5;34m28\u001b[0m, \u001b[38;5;34m28\u001b[0m, \u001b[38;5;34m512\u001b[0m)         │       \u001b[38;5;34m2,359,808\u001b[0m │\n",
              "├──────────────────────────────────────┼─────────────────────────────┼─────────────────┤\n",
              "│ block4_pool (\u001b[38;5;33mMaxPooling2D\u001b[0m)           │ (\u001b[38;5;45mNone\u001b[0m, \u001b[38;5;34m14\u001b[0m, \u001b[38;5;34m14\u001b[0m, \u001b[38;5;34m512\u001b[0m)         │               \u001b[38;5;34m0\u001b[0m │\n",
              "├──────────────────────────────────────┼─────────────────────────────┼─────────────────┤\n",
              "│ block5_conv1 (\u001b[38;5;33mConv2D\u001b[0m)                │ (\u001b[38;5;45mNone\u001b[0m, \u001b[38;5;34m14\u001b[0m, \u001b[38;5;34m14\u001b[0m, \u001b[38;5;34m512\u001b[0m)         │       \u001b[38;5;34m2,359,808\u001b[0m │\n",
              "├──────────────────────────────────────┼─────────────────────────────┼─────────────────┤\n",
              "│ block5_conv2 (\u001b[38;5;33mConv2D\u001b[0m)                │ (\u001b[38;5;45mNone\u001b[0m, \u001b[38;5;34m14\u001b[0m, \u001b[38;5;34m14\u001b[0m, \u001b[38;5;34m512\u001b[0m)         │       \u001b[38;5;34m2,359,808\u001b[0m │\n",
              "├──────────────────────────────────────┼─────────────────────────────┼─────────────────┤\n",
              "│ block5_conv3 (\u001b[38;5;33mConv2D\u001b[0m)                │ (\u001b[38;5;45mNone\u001b[0m, \u001b[38;5;34m14\u001b[0m, \u001b[38;5;34m14\u001b[0m, \u001b[38;5;34m512\u001b[0m)         │       \u001b[38;5;34m2,359,808\u001b[0m │\n",
              "├──────────────────────────────────────┼─────────────────────────────┼─────────────────┤\n",
              "│ block5_pool (\u001b[38;5;33mMaxPooling2D\u001b[0m)           │ (\u001b[38;5;45mNone\u001b[0m, \u001b[38;5;34m7\u001b[0m, \u001b[38;5;34m7\u001b[0m, \u001b[38;5;34m512\u001b[0m)           │               \u001b[38;5;34m0\u001b[0m │\n",
              "└──────────────────────────────────────┴─────────────────────────────┴─────────────────┘\n"
            ],
            "text/html": [
              "<pre style=\"white-space:pre;overflow-x:auto;line-height:normal;font-family:Menlo,'DejaVu Sans Mono',consolas,'Courier New',monospace\">┏━━━━━━━━━━━━━━━━━━━━━━━━━━━━━━━━━━━━━━┳━━━━━━━━━━━━━━━━━━━━━━━━━━━━━┳━━━━━━━━━━━━━━━━━┓\n",
              "┃<span style=\"font-weight: bold\"> Layer (type)                         </span>┃<span style=\"font-weight: bold\"> Output Shape                </span>┃<span style=\"font-weight: bold\">         Param # </span>┃\n",
              "┡━━━━━━━━━━━━━━━━━━━━━━━━━━━━━━━━━━━━━━╇━━━━━━━━━━━━━━━━━━━━━━━━━━━━━╇━━━━━━━━━━━━━━━━━┩\n",
              "│ input_layer_2 (<span style=\"color: #0087ff; text-decoration-color: #0087ff\">InputLayer</span>)           │ (<span style=\"color: #00d7ff; text-decoration-color: #00d7ff\">None</span>, <span style=\"color: #00af00; text-decoration-color: #00af00\">224</span>, <span style=\"color: #00af00; text-decoration-color: #00af00\">224</span>, <span style=\"color: #00af00; text-decoration-color: #00af00\">3</span>)         │               <span style=\"color: #00af00; text-decoration-color: #00af00\">0</span> │\n",
              "├──────────────────────────────────────┼─────────────────────────────┼─────────────────┤\n",
              "│ block1_conv1 (<span style=\"color: #0087ff; text-decoration-color: #0087ff\">Conv2D</span>)                │ (<span style=\"color: #00d7ff; text-decoration-color: #00d7ff\">None</span>, <span style=\"color: #00af00; text-decoration-color: #00af00\">224</span>, <span style=\"color: #00af00; text-decoration-color: #00af00\">224</span>, <span style=\"color: #00af00; text-decoration-color: #00af00\">64</span>)        │           <span style=\"color: #00af00; text-decoration-color: #00af00\">1,792</span> │\n",
              "├──────────────────────────────────────┼─────────────────────────────┼─────────────────┤\n",
              "│ block1_conv2 (<span style=\"color: #0087ff; text-decoration-color: #0087ff\">Conv2D</span>)                │ (<span style=\"color: #00d7ff; text-decoration-color: #00d7ff\">None</span>, <span style=\"color: #00af00; text-decoration-color: #00af00\">224</span>, <span style=\"color: #00af00; text-decoration-color: #00af00\">224</span>, <span style=\"color: #00af00; text-decoration-color: #00af00\">64</span>)        │          <span style=\"color: #00af00; text-decoration-color: #00af00\">36,928</span> │\n",
              "├──────────────────────────────────────┼─────────────────────────────┼─────────────────┤\n",
              "│ block1_pool (<span style=\"color: #0087ff; text-decoration-color: #0087ff\">MaxPooling2D</span>)           │ (<span style=\"color: #00d7ff; text-decoration-color: #00d7ff\">None</span>, <span style=\"color: #00af00; text-decoration-color: #00af00\">112</span>, <span style=\"color: #00af00; text-decoration-color: #00af00\">112</span>, <span style=\"color: #00af00; text-decoration-color: #00af00\">64</span>)        │               <span style=\"color: #00af00; text-decoration-color: #00af00\">0</span> │\n",
              "├──────────────────────────────────────┼─────────────────────────────┼─────────────────┤\n",
              "│ block2_conv1 (<span style=\"color: #0087ff; text-decoration-color: #0087ff\">Conv2D</span>)                │ (<span style=\"color: #00d7ff; text-decoration-color: #00d7ff\">None</span>, <span style=\"color: #00af00; text-decoration-color: #00af00\">112</span>, <span style=\"color: #00af00; text-decoration-color: #00af00\">112</span>, <span style=\"color: #00af00; text-decoration-color: #00af00\">128</span>)       │          <span style=\"color: #00af00; text-decoration-color: #00af00\">73,856</span> │\n",
              "├──────────────────────────────────────┼─────────────────────────────┼─────────────────┤\n",
              "│ block2_conv2 (<span style=\"color: #0087ff; text-decoration-color: #0087ff\">Conv2D</span>)                │ (<span style=\"color: #00d7ff; text-decoration-color: #00d7ff\">None</span>, <span style=\"color: #00af00; text-decoration-color: #00af00\">112</span>, <span style=\"color: #00af00; text-decoration-color: #00af00\">112</span>, <span style=\"color: #00af00; text-decoration-color: #00af00\">128</span>)       │         <span style=\"color: #00af00; text-decoration-color: #00af00\">147,584</span> │\n",
              "├──────────────────────────────────────┼─────────────────────────────┼─────────────────┤\n",
              "│ block2_pool (<span style=\"color: #0087ff; text-decoration-color: #0087ff\">MaxPooling2D</span>)           │ (<span style=\"color: #00d7ff; text-decoration-color: #00d7ff\">None</span>, <span style=\"color: #00af00; text-decoration-color: #00af00\">56</span>, <span style=\"color: #00af00; text-decoration-color: #00af00\">56</span>, <span style=\"color: #00af00; text-decoration-color: #00af00\">128</span>)         │               <span style=\"color: #00af00; text-decoration-color: #00af00\">0</span> │\n",
              "├──────────────────────────────────────┼─────────────────────────────┼─────────────────┤\n",
              "│ block3_conv1 (<span style=\"color: #0087ff; text-decoration-color: #0087ff\">Conv2D</span>)                │ (<span style=\"color: #00d7ff; text-decoration-color: #00d7ff\">None</span>, <span style=\"color: #00af00; text-decoration-color: #00af00\">56</span>, <span style=\"color: #00af00; text-decoration-color: #00af00\">56</span>, <span style=\"color: #00af00; text-decoration-color: #00af00\">256</span>)         │         <span style=\"color: #00af00; text-decoration-color: #00af00\">295,168</span> │\n",
              "├──────────────────────────────────────┼─────────────────────────────┼─────────────────┤\n",
              "│ block3_conv2 (<span style=\"color: #0087ff; text-decoration-color: #0087ff\">Conv2D</span>)                │ (<span style=\"color: #00d7ff; text-decoration-color: #00d7ff\">None</span>, <span style=\"color: #00af00; text-decoration-color: #00af00\">56</span>, <span style=\"color: #00af00; text-decoration-color: #00af00\">56</span>, <span style=\"color: #00af00; text-decoration-color: #00af00\">256</span>)         │         <span style=\"color: #00af00; text-decoration-color: #00af00\">590,080</span> │\n",
              "├──────────────────────────────────────┼─────────────────────────────┼─────────────────┤\n",
              "│ block3_conv3 (<span style=\"color: #0087ff; text-decoration-color: #0087ff\">Conv2D</span>)                │ (<span style=\"color: #00d7ff; text-decoration-color: #00d7ff\">None</span>, <span style=\"color: #00af00; text-decoration-color: #00af00\">56</span>, <span style=\"color: #00af00; text-decoration-color: #00af00\">56</span>, <span style=\"color: #00af00; text-decoration-color: #00af00\">256</span>)         │         <span style=\"color: #00af00; text-decoration-color: #00af00\">590,080</span> │\n",
              "├──────────────────────────────────────┼─────────────────────────────┼─────────────────┤\n",
              "│ block3_pool (<span style=\"color: #0087ff; text-decoration-color: #0087ff\">MaxPooling2D</span>)           │ (<span style=\"color: #00d7ff; text-decoration-color: #00d7ff\">None</span>, <span style=\"color: #00af00; text-decoration-color: #00af00\">28</span>, <span style=\"color: #00af00; text-decoration-color: #00af00\">28</span>, <span style=\"color: #00af00; text-decoration-color: #00af00\">256</span>)         │               <span style=\"color: #00af00; text-decoration-color: #00af00\">0</span> │\n",
              "├──────────────────────────────────────┼─────────────────────────────┼─────────────────┤\n",
              "│ block4_conv1 (<span style=\"color: #0087ff; text-decoration-color: #0087ff\">Conv2D</span>)                │ (<span style=\"color: #00d7ff; text-decoration-color: #00d7ff\">None</span>, <span style=\"color: #00af00; text-decoration-color: #00af00\">28</span>, <span style=\"color: #00af00; text-decoration-color: #00af00\">28</span>, <span style=\"color: #00af00; text-decoration-color: #00af00\">512</span>)         │       <span style=\"color: #00af00; text-decoration-color: #00af00\">1,180,160</span> │\n",
              "├──────────────────────────────────────┼─────────────────────────────┼─────────────────┤\n",
              "│ block4_conv2 (<span style=\"color: #0087ff; text-decoration-color: #0087ff\">Conv2D</span>)                │ (<span style=\"color: #00d7ff; text-decoration-color: #00d7ff\">None</span>, <span style=\"color: #00af00; text-decoration-color: #00af00\">28</span>, <span style=\"color: #00af00; text-decoration-color: #00af00\">28</span>, <span style=\"color: #00af00; text-decoration-color: #00af00\">512</span>)         │       <span style=\"color: #00af00; text-decoration-color: #00af00\">2,359,808</span> │\n",
              "├──────────────────────────────────────┼─────────────────────────────┼─────────────────┤\n",
              "│ block4_conv3 (<span style=\"color: #0087ff; text-decoration-color: #0087ff\">Conv2D</span>)                │ (<span style=\"color: #00d7ff; text-decoration-color: #00d7ff\">None</span>, <span style=\"color: #00af00; text-decoration-color: #00af00\">28</span>, <span style=\"color: #00af00; text-decoration-color: #00af00\">28</span>, <span style=\"color: #00af00; text-decoration-color: #00af00\">512</span>)         │       <span style=\"color: #00af00; text-decoration-color: #00af00\">2,359,808</span> │\n",
              "├──────────────────────────────────────┼─────────────────────────────┼─────────────────┤\n",
              "│ block4_pool (<span style=\"color: #0087ff; text-decoration-color: #0087ff\">MaxPooling2D</span>)           │ (<span style=\"color: #00d7ff; text-decoration-color: #00d7ff\">None</span>, <span style=\"color: #00af00; text-decoration-color: #00af00\">14</span>, <span style=\"color: #00af00; text-decoration-color: #00af00\">14</span>, <span style=\"color: #00af00; text-decoration-color: #00af00\">512</span>)         │               <span style=\"color: #00af00; text-decoration-color: #00af00\">0</span> │\n",
              "├──────────────────────────────────────┼─────────────────────────────┼─────────────────┤\n",
              "│ block5_conv1 (<span style=\"color: #0087ff; text-decoration-color: #0087ff\">Conv2D</span>)                │ (<span style=\"color: #00d7ff; text-decoration-color: #00d7ff\">None</span>, <span style=\"color: #00af00; text-decoration-color: #00af00\">14</span>, <span style=\"color: #00af00; text-decoration-color: #00af00\">14</span>, <span style=\"color: #00af00; text-decoration-color: #00af00\">512</span>)         │       <span style=\"color: #00af00; text-decoration-color: #00af00\">2,359,808</span> │\n",
              "├──────────────────────────────────────┼─────────────────────────────┼─────────────────┤\n",
              "│ block5_conv2 (<span style=\"color: #0087ff; text-decoration-color: #0087ff\">Conv2D</span>)                │ (<span style=\"color: #00d7ff; text-decoration-color: #00d7ff\">None</span>, <span style=\"color: #00af00; text-decoration-color: #00af00\">14</span>, <span style=\"color: #00af00; text-decoration-color: #00af00\">14</span>, <span style=\"color: #00af00; text-decoration-color: #00af00\">512</span>)         │       <span style=\"color: #00af00; text-decoration-color: #00af00\">2,359,808</span> │\n",
              "├──────────────────────────────────────┼─────────────────────────────┼─────────────────┤\n",
              "│ block5_conv3 (<span style=\"color: #0087ff; text-decoration-color: #0087ff\">Conv2D</span>)                │ (<span style=\"color: #00d7ff; text-decoration-color: #00d7ff\">None</span>, <span style=\"color: #00af00; text-decoration-color: #00af00\">14</span>, <span style=\"color: #00af00; text-decoration-color: #00af00\">14</span>, <span style=\"color: #00af00; text-decoration-color: #00af00\">512</span>)         │       <span style=\"color: #00af00; text-decoration-color: #00af00\">2,359,808</span> │\n",
              "├──────────────────────────────────────┼─────────────────────────────┼─────────────────┤\n",
              "│ block5_pool (<span style=\"color: #0087ff; text-decoration-color: #0087ff\">MaxPooling2D</span>)           │ (<span style=\"color: #00d7ff; text-decoration-color: #00d7ff\">None</span>, <span style=\"color: #00af00; text-decoration-color: #00af00\">7</span>, <span style=\"color: #00af00; text-decoration-color: #00af00\">7</span>, <span style=\"color: #00af00; text-decoration-color: #00af00\">512</span>)           │               <span style=\"color: #00af00; text-decoration-color: #00af00\">0</span> │\n",
              "└──────────────────────────────────────┴─────────────────────────────┴─────────────────┘\n",
              "</pre>\n"
            ]
          },
          "metadata": {}
        },
        {
          "output_type": "display_data",
          "data": {
            "text/plain": [
              "\u001b[1m Total params: \u001b[0m\u001b[38;5;34m14,714,688\u001b[0m (56.13 MB)\n"
            ],
            "text/html": [
              "<pre style=\"white-space:pre;overflow-x:auto;line-height:normal;font-family:Menlo,'DejaVu Sans Mono',consolas,'Courier New',monospace\"><span style=\"font-weight: bold\"> Total params: </span><span style=\"color: #00af00; text-decoration-color: #00af00\">14,714,688</span> (56.13 MB)\n",
              "</pre>\n"
            ]
          },
          "metadata": {}
        },
        {
          "output_type": "display_data",
          "data": {
            "text/plain": [
              "\u001b[1m Trainable params: \u001b[0m\u001b[38;5;34m14,714,688\u001b[0m (56.13 MB)\n"
            ],
            "text/html": [
              "<pre style=\"white-space:pre;overflow-x:auto;line-height:normal;font-family:Menlo,'DejaVu Sans Mono',consolas,'Courier New',monospace\"><span style=\"font-weight: bold\"> Trainable params: </span><span style=\"color: #00af00; text-decoration-color: #00af00\">14,714,688</span> (56.13 MB)\n",
              "</pre>\n"
            ]
          },
          "metadata": {}
        },
        {
          "output_type": "display_data",
          "data": {
            "text/plain": [
              "\u001b[1m Non-trainable params: \u001b[0m\u001b[38;5;34m0\u001b[0m (0.00 B)\n"
            ],
            "text/html": [
              "<pre style=\"white-space:pre;overflow-x:auto;line-height:normal;font-family:Menlo,'DejaVu Sans Mono',consolas,'Courier New',monospace\"><span style=\"font-weight: bold\"> Non-trainable params: </span><span style=\"color: #00af00; text-decoration-color: #00af00\">0</span> (0.00 B)\n",
              "</pre>\n"
            ]
          },
          "metadata": {}
        }
      ]
    },
    {
      "cell_type": "code",
      "metadata": {
        "id": "1bxgfwxKGDoe"
      },
      "source": [
        "additional_layers = VGG_model.output\n",
        "additional_layers = GlobalAveragePooling2D()(additional_layers)"
      ],
      "execution_count": 29,
      "outputs": []
    },
    {
      "cell_type": "code",
      "metadata": {
        "id": "sKEpM6KOGDoe"
      },
      "source": [
        "additional_layers = Dense(1024,activation='relu')(additional_layers)\n",
        "additional_layers = Dense(1024,activation='relu')(additional_layers)\n",
        "additional_layers = Dense(512, activation='relu')(additional_layers)"
      ],
      "execution_count": 30,
      "outputs": []
    },
    {
      "cell_type": "code",
      "metadata": {
        "id": "U7IeBitLGDof"
      },
      "source": [
        "output = Dense(2,activation='softmax')(additional_layers)"
      ],
      "execution_count": 31,
      "outputs": []
    },
    {
      "cell_type": "code",
      "metadata": {
        "id": "bhe4dvhYGDof"
      },
      "source": [
        "model = Model(inputs = VGG_model.input,outputs=output)"
      ],
      "execution_count": 32,
      "outputs": []
    },
    {
      "cell_type": "code",
      "metadata": {
        "colab": {
          "base_uri": "https://localhost:8080/",
          "height": 913
        },
        "id": "1Y_4tzo2GDof",
        "outputId": "ac666cae-371b-4dc5-b885-d6028f8674aa"
      },
      "source": [
        "model.summary()"
      ],
      "execution_count": 33,
      "outputs": [
        {
          "output_type": "display_data",
          "data": {
            "text/plain": [
              "\u001b[1mModel: \"functional_2\"\u001b[0m\n"
            ],
            "text/html": [
              "<pre style=\"white-space:pre;overflow-x:auto;line-height:normal;font-family:Menlo,'DejaVu Sans Mono',consolas,'Courier New',monospace\"><span style=\"font-weight: bold\">Model: \"functional_2\"</span>\n",
              "</pre>\n"
            ]
          },
          "metadata": {}
        },
        {
          "output_type": "display_data",
          "data": {
            "text/plain": [
              "┏━━━━━━━━━━━━━━━━━━━━━━━━━━━━━━━━━━━━━━┳━━━━━━━━━━━━━━━━━━━━━━━━━━━━━┳━━━━━━━━━━━━━━━━━┓\n",
              "┃\u001b[1m \u001b[0m\u001b[1mLayer (type)                        \u001b[0m\u001b[1m \u001b[0m┃\u001b[1m \u001b[0m\u001b[1mOutput Shape               \u001b[0m\u001b[1m \u001b[0m┃\u001b[1m \u001b[0m\u001b[1m        Param #\u001b[0m\u001b[1m \u001b[0m┃\n",
              "┡━━━━━━━━━━━━━━━━━━━━━━━━━━━━━━━━━━━━━━╇━━━━━━━━━━━━━━━━━━━━━━━━━━━━━╇━━━━━━━━━━━━━━━━━┩\n",
              "│ input_layer_2 (\u001b[38;5;33mInputLayer\u001b[0m)           │ (\u001b[38;5;45mNone\u001b[0m, \u001b[38;5;34m224\u001b[0m, \u001b[38;5;34m224\u001b[0m, \u001b[38;5;34m3\u001b[0m)         │               \u001b[38;5;34m0\u001b[0m │\n",
              "├──────────────────────────────────────┼─────────────────────────────┼─────────────────┤\n",
              "│ block1_conv1 (\u001b[38;5;33mConv2D\u001b[0m)                │ (\u001b[38;5;45mNone\u001b[0m, \u001b[38;5;34m224\u001b[0m, \u001b[38;5;34m224\u001b[0m, \u001b[38;5;34m64\u001b[0m)        │           \u001b[38;5;34m1,792\u001b[0m │\n",
              "├──────────────────────────────────────┼─────────────────────────────┼─────────────────┤\n",
              "│ block1_conv2 (\u001b[38;5;33mConv2D\u001b[0m)                │ (\u001b[38;5;45mNone\u001b[0m, \u001b[38;5;34m224\u001b[0m, \u001b[38;5;34m224\u001b[0m, \u001b[38;5;34m64\u001b[0m)        │          \u001b[38;5;34m36,928\u001b[0m │\n",
              "├──────────────────────────────────────┼─────────────────────────────┼─────────────────┤\n",
              "│ block1_pool (\u001b[38;5;33mMaxPooling2D\u001b[0m)           │ (\u001b[38;5;45mNone\u001b[0m, \u001b[38;5;34m112\u001b[0m, \u001b[38;5;34m112\u001b[0m, \u001b[38;5;34m64\u001b[0m)        │               \u001b[38;5;34m0\u001b[0m │\n",
              "├──────────────────────────────────────┼─────────────────────────────┼─────────────────┤\n",
              "│ block2_conv1 (\u001b[38;5;33mConv2D\u001b[0m)                │ (\u001b[38;5;45mNone\u001b[0m, \u001b[38;5;34m112\u001b[0m, \u001b[38;5;34m112\u001b[0m, \u001b[38;5;34m128\u001b[0m)       │          \u001b[38;5;34m73,856\u001b[0m │\n",
              "├──────────────────────────────────────┼─────────────────────────────┼─────────────────┤\n",
              "│ block2_conv2 (\u001b[38;5;33mConv2D\u001b[0m)                │ (\u001b[38;5;45mNone\u001b[0m, \u001b[38;5;34m112\u001b[0m, \u001b[38;5;34m112\u001b[0m, \u001b[38;5;34m128\u001b[0m)       │         \u001b[38;5;34m147,584\u001b[0m │\n",
              "├──────────────────────────────────────┼─────────────────────────────┼─────────────────┤\n",
              "│ block2_pool (\u001b[38;5;33mMaxPooling2D\u001b[0m)           │ (\u001b[38;5;45mNone\u001b[0m, \u001b[38;5;34m56\u001b[0m, \u001b[38;5;34m56\u001b[0m, \u001b[38;5;34m128\u001b[0m)         │               \u001b[38;5;34m0\u001b[0m │\n",
              "├──────────────────────────────────────┼─────────────────────────────┼─────────────────┤\n",
              "│ block3_conv1 (\u001b[38;5;33mConv2D\u001b[0m)                │ (\u001b[38;5;45mNone\u001b[0m, \u001b[38;5;34m56\u001b[0m, \u001b[38;5;34m56\u001b[0m, \u001b[38;5;34m256\u001b[0m)         │         \u001b[38;5;34m295,168\u001b[0m │\n",
              "├──────────────────────────────────────┼─────────────────────────────┼─────────────────┤\n",
              "│ block3_conv2 (\u001b[38;5;33mConv2D\u001b[0m)                │ (\u001b[38;5;45mNone\u001b[0m, \u001b[38;5;34m56\u001b[0m, \u001b[38;5;34m56\u001b[0m, \u001b[38;5;34m256\u001b[0m)         │         \u001b[38;5;34m590,080\u001b[0m │\n",
              "├──────────────────────────────────────┼─────────────────────────────┼─────────────────┤\n",
              "│ block3_conv3 (\u001b[38;5;33mConv2D\u001b[0m)                │ (\u001b[38;5;45mNone\u001b[0m, \u001b[38;5;34m56\u001b[0m, \u001b[38;5;34m56\u001b[0m, \u001b[38;5;34m256\u001b[0m)         │         \u001b[38;5;34m590,080\u001b[0m │\n",
              "├──────────────────────────────────────┼─────────────────────────────┼─────────────────┤\n",
              "│ block3_pool (\u001b[38;5;33mMaxPooling2D\u001b[0m)           │ (\u001b[38;5;45mNone\u001b[0m, \u001b[38;5;34m28\u001b[0m, \u001b[38;5;34m28\u001b[0m, \u001b[38;5;34m256\u001b[0m)         │               \u001b[38;5;34m0\u001b[0m │\n",
              "├──────────────────────────────────────┼─────────────────────────────┼─────────────────┤\n",
              "│ block4_conv1 (\u001b[38;5;33mConv2D\u001b[0m)                │ (\u001b[38;5;45mNone\u001b[0m, \u001b[38;5;34m28\u001b[0m, \u001b[38;5;34m28\u001b[0m, \u001b[38;5;34m512\u001b[0m)         │       \u001b[38;5;34m1,180,160\u001b[0m │\n",
              "├──────────────────────────────────────┼─────────────────────────────┼─────────────────┤\n",
              "│ block4_conv2 (\u001b[38;5;33mConv2D\u001b[0m)                │ (\u001b[38;5;45mNone\u001b[0m, \u001b[38;5;34m28\u001b[0m, \u001b[38;5;34m28\u001b[0m, \u001b[38;5;34m512\u001b[0m)         │       \u001b[38;5;34m2,359,808\u001b[0m │\n",
              "├──────────────────────────────────────┼─────────────────────────────┼─────────────────┤\n",
              "│ block4_conv3 (\u001b[38;5;33mConv2D\u001b[0m)                │ (\u001b[38;5;45mNone\u001b[0m, \u001b[38;5;34m28\u001b[0m, \u001b[38;5;34m28\u001b[0m, \u001b[38;5;34m512\u001b[0m)         │       \u001b[38;5;34m2,359,808\u001b[0m │\n",
              "├──────────────────────────────────────┼─────────────────────────────┼─────────────────┤\n",
              "│ block4_pool (\u001b[38;5;33mMaxPooling2D\u001b[0m)           │ (\u001b[38;5;45mNone\u001b[0m, \u001b[38;5;34m14\u001b[0m, \u001b[38;5;34m14\u001b[0m, \u001b[38;5;34m512\u001b[0m)         │               \u001b[38;5;34m0\u001b[0m │\n",
              "├──────────────────────────────────────┼─────────────────────────────┼─────────────────┤\n",
              "│ block5_conv1 (\u001b[38;5;33mConv2D\u001b[0m)                │ (\u001b[38;5;45mNone\u001b[0m, \u001b[38;5;34m14\u001b[0m, \u001b[38;5;34m14\u001b[0m, \u001b[38;5;34m512\u001b[0m)         │       \u001b[38;5;34m2,359,808\u001b[0m │\n",
              "├──────────────────────────────────────┼─────────────────────────────┼─────────────────┤\n",
              "│ block5_conv2 (\u001b[38;5;33mConv2D\u001b[0m)                │ (\u001b[38;5;45mNone\u001b[0m, \u001b[38;5;34m14\u001b[0m, \u001b[38;5;34m14\u001b[0m, \u001b[38;5;34m512\u001b[0m)         │       \u001b[38;5;34m2,359,808\u001b[0m │\n",
              "├──────────────────────────────────────┼─────────────────────────────┼─────────────────┤\n",
              "│ block5_conv3 (\u001b[38;5;33mConv2D\u001b[0m)                │ (\u001b[38;5;45mNone\u001b[0m, \u001b[38;5;34m14\u001b[0m, \u001b[38;5;34m14\u001b[0m, \u001b[38;5;34m512\u001b[0m)         │       \u001b[38;5;34m2,359,808\u001b[0m │\n",
              "├──────────────────────────────────────┼─────────────────────────────┼─────────────────┤\n",
              "│ block5_pool (\u001b[38;5;33mMaxPooling2D\u001b[0m)           │ (\u001b[38;5;45mNone\u001b[0m, \u001b[38;5;34m7\u001b[0m, \u001b[38;5;34m7\u001b[0m, \u001b[38;5;34m512\u001b[0m)           │               \u001b[38;5;34m0\u001b[0m │\n",
              "├──────────────────────────────────────┼─────────────────────────────┼─────────────────┤\n",
              "│ global_average_pooling2d_2           │ (\u001b[38;5;45mNone\u001b[0m, \u001b[38;5;34m512\u001b[0m)                 │               \u001b[38;5;34m0\u001b[0m │\n",
              "│ (\u001b[38;5;33mGlobalAveragePooling2D\u001b[0m)             │                             │                 │\n",
              "├──────────────────────────────────────┼─────────────────────────────┼─────────────────┤\n",
              "│ dense_8 (\u001b[38;5;33mDense\u001b[0m)                      │ (\u001b[38;5;45mNone\u001b[0m, \u001b[38;5;34m1024\u001b[0m)                │         \u001b[38;5;34m525,312\u001b[0m │\n",
              "├──────────────────────────────────────┼─────────────────────────────┼─────────────────┤\n",
              "│ dense_9 (\u001b[38;5;33mDense\u001b[0m)                      │ (\u001b[38;5;45mNone\u001b[0m, \u001b[38;5;34m1024\u001b[0m)                │       \u001b[38;5;34m1,049,600\u001b[0m │\n",
              "├──────────────────────────────────────┼─────────────────────────────┼─────────────────┤\n",
              "│ dense_10 (\u001b[38;5;33mDense\u001b[0m)                     │ (\u001b[38;5;45mNone\u001b[0m, \u001b[38;5;34m512\u001b[0m)                 │         \u001b[38;5;34m524,800\u001b[0m │\n",
              "├──────────────────────────────────────┼─────────────────────────────┼─────────────────┤\n",
              "│ dense_11 (\u001b[38;5;33mDense\u001b[0m)                     │ (\u001b[38;5;45mNone\u001b[0m, \u001b[38;5;34m2\u001b[0m)                   │           \u001b[38;5;34m1,026\u001b[0m │\n",
              "└──────────────────────────────────────┴─────────────────────────────┴─────────────────┘\n"
            ],
            "text/html": [
              "<pre style=\"white-space:pre;overflow-x:auto;line-height:normal;font-family:Menlo,'DejaVu Sans Mono',consolas,'Courier New',monospace\">┏━━━━━━━━━━━━━━━━━━━━━━━━━━━━━━━━━━━━━━┳━━━━━━━━━━━━━━━━━━━━━━━━━━━━━┳━━━━━━━━━━━━━━━━━┓\n",
              "┃<span style=\"font-weight: bold\"> Layer (type)                         </span>┃<span style=\"font-weight: bold\"> Output Shape                </span>┃<span style=\"font-weight: bold\">         Param # </span>┃\n",
              "┡━━━━━━━━━━━━━━━━━━━━━━━━━━━━━━━━━━━━━━╇━━━━━━━━━━━━━━━━━━━━━━━━━━━━━╇━━━━━━━━━━━━━━━━━┩\n",
              "│ input_layer_2 (<span style=\"color: #0087ff; text-decoration-color: #0087ff\">InputLayer</span>)           │ (<span style=\"color: #00d7ff; text-decoration-color: #00d7ff\">None</span>, <span style=\"color: #00af00; text-decoration-color: #00af00\">224</span>, <span style=\"color: #00af00; text-decoration-color: #00af00\">224</span>, <span style=\"color: #00af00; text-decoration-color: #00af00\">3</span>)         │               <span style=\"color: #00af00; text-decoration-color: #00af00\">0</span> │\n",
              "├──────────────────────────────────────┼─────────────────────────────┼─────────────────┤\n",
              "│ block1_conv1 (<span style=\"color: #0087ff; text-decoration-color: #0087ff\">Conv2D</span>)                │ (<span style=\"color: #00d7ff; text-decoration-color: #00d7ff\">None</span>, <span style=\"color: #00af00; text-decoration-color: #00af00\">224</span>, <span style=\"color: #00af00; text-decoration-color: #00af00\">224</span>, <span style=\"color: #00af00; text-decoration-color: #00af00\">64</span>)        │           <span style=\"color: #00af00; text-decoration-color: #00af00\">1,792</span> │\n",
              "├──────────────────────────────────────┼─────────────────────────────┼─────────────────┤\n",
              "│ block1_conv2 (<span style=\"color: #0087ff; text-decoration-color: #0087ff\">Conv2D</span>)                │ (<span style=\"color: #00d7ff; text-decoration-color: #00d7ff\">None</span>, <span style=\"color: #00af00; text-decoration-color: #00af00\">224</span>, <span style=\"color: #00af00; text-decoration-color: #00af00\">224</span>, <span style=\"color: #00af00; text-decoration-color: #00af00\">64</span>)        │          <span style=\"color: #00af00; text-decoration-color: #00af00\">36,928</span> │\n",
              "├──────────────────────────────────────┼─────────────────────────────┼─────────────────┤\n",
              "│ block1_pool (<span style=\"color: #0087ff; text-decoration-color: #0087ff\">MaxPooling2D</span>)           │ (<span style=\"color: #00d7ff; text-decoration-color: #00d7ff\">None</span>, <span style=\"color: #00af00; text-decoration-color: #00af00\">112</span>, <span style=\"color: #00af00; text-decoration-color: #00af00\">112</span>, <span style=\"color: #00af00; text-decoration-color: #00af00\">64</span>)        │               <span style=\"color: #00af00; text-decoration-color: #00af00\">0</span> │\n",
              "├──────────────────────────────────────┼─────────────────────────────┼─────────────────┤\n",
              "│ block2_conv1 (<span style=\"color: #0087ff; text-decoration-color: #0087ff\">Conv2D</span>)                │ (<span style=\"color: #00d7ff; text-decoration-color: #00d7ff\">None</span>, <span style=\"color: #00af00; text-decoration-color: #00af00\">112</span>, <span style=\"color: #00af00; text-decoration-color: #00af00\">112</span>, <span style=\"color: #00af00; text-decoration-color: #00af00\">128</span>)       │          <span style=\"color: #00af00; text-decoration-color: #00af00\">73,856</span> │\n",
              "├──────────────────────────────────────┼─────────────────────────────┼─────────────────┤\n",
              "│ block2_conv2 (<span style=\"color: #0087ff; text-decoration-color: #0087ff\">Conv2D</span>)                │ (<span style=\"color: #00d7ff; text-decoration-color: #00d7ff\">None</span>, <span style=\"color: #00af00; text-decoration-color: #00af00\">112</span>, <span style=\"color: #00af00; text-decoration-color: #00af00\">112</span>, <span style=\"color: #00af00; text-decoration-color: #00af00\">128</span>)       │         <span style=\"color: #00af00; text-decoration-color: #00af00\">147,584</span> │\n",
              "├──────────────────────────────────────┼─────────────────────────────┼─────────────────┤\n",
              "│ block2_pool (<span style=\"color: #0087ff; text-decoration-color: #0087ff\">MaxPooling2D</span>)           │ (<span style=\"color: #00d7ff; text-decoration-color: #00d7ff\">None</span>, <span style=\"color: #00af00; text-decoration-color: #00af00\">56</span>, <span style=\"color: #00af00; text-decoration-color: #00af00\">56</span>, <span style=\"color: #00af00; text-decoration-color: #00af00\">128</span>)         │               <span style=\"color: #00af00; text-decoration-color: #00af00\">0</span> │\n",
              "├──────────────────────────────────────┼─────────────────────────────┼─────────────────┤\n",
              "│ block3_conv1 (<span style=\"color: #0087ff; text-decoration-color: #0087ff\">Conv2D</span>)                │ (<span style=\"color: #00d7ff; text-decoration-color: #00d7ff\">None</span>, <span style=\"color: #00af00; text-decoration-color: #00af00\">56</span>, <span style=\"color: #00af00; text-decoration-color: #00af00\">56</span>, <span style=\"color: #00af00; text-decoration-color: #00af00\">256</span>)         │         <span style=\"color: #00af00; text-decoration-color: #00af00\">295,168</span> │\n",
              "├──────────────────────────────────────┼─────────────────────────────┼─────────────────┤\n",
              "│ block3_conv2 (<span style=\"color: #0087ff; text-decoration-color: #0087ff\">Conv2D</span>)                │ (<span style=\"color: #00d7ff; text-decoration-color: #00d7ff\">None</span>, <span style=\"color: #00af00; text-decoration-color: #00af00\">56</span>, <span style=\"color: #00af00; text-decoration-color: #00af00\">56</span>, <span style=\"color: #00af00; text-decoration-color: #00af00\">256</span>)         │         <span style=\"color: #00af00; text-decoration-color: #00af00\">590,080</span> │\n",
              "├──────────────────────────────────────┼─────────────────────────────┼─────────────────┤\n",
              "│ block3_conv3 (<span style=\"color: #0087ff; text-decoration-color: #0087ff\">Conv2D</span>)                │ (<span style=\"color: #00d7ff; text-decoration-color: #00d7ff\">None</span>, <span style=\"color: #00af00; text-decoration-color: #00af00\">56</span>, <span style=\"color: #00af00; text-decoration-color: #00af00\">56</span>, <span style=\"color: #00af00; text-decoration-color: #00af00\">256</span>)         │         <span style=\"color: #00af00; text-decoration-color: #00af00\">590,080</span> │\n",
              "├──────────────────────────────────────┼─────────────────────────────┼─────────────────┤\n",
              "│ block3_pool (<span style=\"color: #0087ff; text-decoration-color: #0087ff\">MaxPooling2D</span>)           │ (<span style=\"color: #00d7ff; text-decoration-color: #00d7ff\">None</span>, <span style=\"color: #00af00; text-decoration-color: #00af00\">28</span>, <span style=\"color: #00af00; text-decoration-color: #00af00\">28</span>, <span style=\"color: #00af00; text-decoration-color: #00af00\">256</span>)         │               <span style=\"color: #00af00; text-decoration-color: #00af00\">0</span> │\n",
              "├──────────────────────────────────────┼─────────────────────────────┼─────────────────┤\n",
              "│ block4_conv1 (<span style=\"color: #0087ff; text-decoration-color: #0087ff\">Conv2D</span>)                │ (<span style=\"color: #00d7ff; text-decoration-color: #00d7ff\">None</span>, <span style=\"color: #00af00; text-decoration-color: #00af00\">28</span>, <span style=\"color: #00af00; text-decoration-color: #00af00\">28</span>, <span style=\"color: #00af00; text-decoration-color: #00af00\">512</span>)         │       <span style=\"color: #00af00; text-decoration-color: #00af00\">1,180,160</span> │\n",
              "├──────────────────────────────────────┼─────────────────────────────┼─────────────────┤\n",
              "│ block4_conv2 (<span style=\"color: #0087ff; text-decoration-color: #0087ff\">Conv2D</span>)                │ (<span style=\"color: #00d7ff; text-decoration-color: #00d7ff\">None</span>, <span style=\"color: #00af00; text-decoration-color: #00af00\">28</span>, <span style=\"color: #00af00; text-decoration-color: #00af00\">28</span>, <span style=\"color: #00af00; text-decoration-color: #00af00\">512</span>)         │       <span style=\"color: #00af00; text-decoration-color: #00af00\">2,359,808</span> │\n",
              "├──────────────────────────────────────┼─────────────────────────────┼─────────────────┤\n",
              "│ block4_conv3 (<span style=\"color: #0087ff; text-decoration-color: #0087ff\">Conv2D</span>)                │ (<span style=\"color: #00d7ff; text-decoration-color: #00d7ff\">None</span>, <span style=\"color: #00af00; text-decoration-color: #00af00\">28</span>, <span style=\"color: #00af00; text-decoration-color: #00af00\">28</span>, <span style=\"color: #00af00; text-decoration-color: #00af00\">512</span>)         │       <span style=\"color: #00af00; text-decoration-color: #00af00\">2,359,808</span> │\n",
              "├──────────────────────────────────────┼─────────────────────────────┼─────────────────┤\n",
              "│ block4_pool (<span style=\"color: #0087ff; text-decoration-color: #0087ff\">MaxPooling2D</span>)           │ (<span style=\"color: #00d7ff; text-decoration-color: #00d7ff\">None</span>, <span style=\"color: #00af00; text-decoration-color: #00af00\">14</span>, <span style=\"color: #00af00; text-decoration-color: #00af00\">14</span>, <span style=\"color: #00af00; text-decoration-color: #00af00\">512</span>)         │               <span style=\"color: #00af00; text-decoration-color: #00af00\">0</span> │\n",
              "├──────────────────────────────────────┼─────────────────────────────┼─────────────────┤\n",
              "│ block5_conv1 (<span style=\"color: #0087ff; text-decoration-color: #0087ff\">Conv2D</span>)                │ (<span style=\"color: #00d7ff; text-decoration-color: #00d7ff\">None</span>, <span style=\"color: #00af00; text-decoration-color: #00af00\">14</span>, <span style=\"color: #00af00; text-decoration-color: #00af00\">14</span>, <span style=\"color: #00af00; text-decoration-color: #00af00\">512</span>)         │       <span style=\"color: #00af00; text-decoration-color: #00af00\">2,359,808</span> │\n",
              "├──────────────────────────────────────┼─────────────────────────────┼─────────────────┤\n",
              "│ block5_conv2 (<span style=\"color: #0087ff; text-decoration-color: #0087ff\">Conv2D</span>)                │ (<span style=\"color: #00d7ff; text-decoration-color: #00d7ff\">None</span>, <span style=\"color: #00af00; text-decoration-color: #00af00\">14</span>, <span style=\"color: #00af00; text-decoration-color: #00af00\">14</span>, <span style=\"color: #00af00; text-decoration-color: #00af00\">512</span>)         │       <span style=\"color: #00af00; text-decoration-color: #00af00\">2,359,808</span> │\n",
              "├──────────────────────────────────────┼─────────────────────────────┼─────────────────┤\n",
              "│ block5_conv3 (<span style=\"color: #0087ff; text-decoration-color: #0087ff\">Conv2D</span>)                │ (<span style=\"color: #00d7ff; text-decoration-color: #00d7ff\">None</span>, <span style=\"color: #00af00; text-decoration-color: #00af00\">14</span>, <span style=\"color: #00af00; text-decoration-color: #00af00\">14</span>, <span style=\"color: #00af00; text-decoration-color: #00af00\">512</span>)         │       <span style=\"color: #00af00; text-decoration-color: #00af00\">2,359,808</span> │\n",
              "├──────────────────────────────────────┼─────────────────────────────┼─────────────────┤\n",
              "│ block5_pool (<span style=\"color: #0087ff; text-decoration-color: #0087ff\">MaxPooling2D</span>)           │ (<span style=\"color: #00d7ff; text-decoration-color: #00d7ff\">None</span>, <span style=\"color: #00af00; text-decoration-color: #00af00\">7</span>, <span style=\"color: #00af00; text-decoration-color: #00af00\">7</span>, <span style=\"color: #00af00; text-decoration-color: #00af00\">512</span>)           │               <span style=\"color: #00af00; text-decoration-color: #00af00\">0</span> │\n",
              "├──────────────────────────────────────┼─────────────────────────────┼─────────────────┤\n",
              "│ global_average_pooling2d_2           │ (<span style=\"color: #00d7ff; text-decoration-color: #00d7ff\">None</span>, <span style=\"color: #00af00; text-decoration-color: #00af00\">512</span>)                 │               <span style=\"color: #00af00; text-decoration-color: #00af00\">0</span> │\n",
              "│ (<span style=\"color: #0087ff; text-decoration-color: #0087ff\">GlobalAveragePooling2D</span>)             │                             │                 │\n",
              "├──────────────────────────────────────┼─────────────────────────────┼─────────────────┤\n",
              "│ dense_8 (<span style=\"color: #0087ff; text-decoration-color: #0087ff\">Dense</span>)                      │ (<span style=\"color: #00d7ff; text-decoration-color: #00d7ff\">None</span>, <span style=\"color: #00af00; text-decoration-color: #00af00\">1024</span>)                │         <span style=\"color: #00af00; text-decoration-color: #00af00\">525,312</span> │\n",
              "├──────────────────────────────────────┼─────────────────────────────┼─────────────────┤\n",
              "│ dense_9 (<span style=\"color: #0087ff; text-decoration-color: #0087ff\">Dense</span>)                      │ (<span style=\"color: #00d7ff; text-decoration-color: #00d7ff\">None</span>, <span style=\"color: #00af00; text-decoration-color: #00af00\">1024</span>)                │       <span style=\"color: #00af00; text-decoration-color: #00af00\">1,049,600</span> │\n",
              "├──────────────────────────────────────┼─────────────────────────────┼─────────────────┤\n",
              "│ dense_10 (<span style=\"color: #0087ff; text-decoration-color: #0087ff\">Dense</span>)                     │ (<span style=\"color: #00d7ff; text-decoration-color: #00d7ff\">None</span>, <span style=\"color: #00af00; text-decoration-color: #00af00\">512</span>)                 │         <span style=\"color: #00af00; text-decoration-color: #00af00\">524,800</span> │\n",
              "├──────────────────────────────────────┼─────────────────────────────┼─────────────────┤\n",
              "│ dense_11 (<span style=\"color: #0087ff; text-decoration-color: #0087ff\">Dense</span>)                     │ (<span style=\"color: #00d7ff; text-decoration-color: #00d7ff\">None</span>, <span style=\"color: #00af00; text-decoration-color: #00af00\">2</span>)                   │           <span style=\"color: #00af00; text-decoration-color: #00af00\">1,026</span> │\n",
              "└──────────────────────────────────────┴─────────────────────────────┴─────────────────┘\n",
              "</pre>\n"
            ]
          },
          "metadata": {}
        },
        {
          "output_type": "display_data",
          "data": {
            "text/plain": [
              "\u001b[1m Total params: \u001b[0m\u001b[38;5;34m16,815,426\u001b[0m (64.15 MB)\n"
            ],
            "text/html": [
              "<pre style=\"white-space:pre;overflow-x:auto;line-height:normal;font-family:Menlo,'DejaVu Sans Mono',consolas,'Courier New',monospace\"><span style=\"font-weight: bold\"> Total params: </span><span style=\"color: #00af00; text-decoration-color: #00af00\">16,815,426</span> (64.15 MB)\n",
              "</pre>\n"
            ]
          },
          "metadata": {}
        },
        {
          "output_type": "display_data",
          "data": {
            "text/plain": [
              "\u001b[1m Trainable params: \u001b[0m\u001b[38;5;34m16,815,426\u001b[0m (64.15 MB)\n"
            ],
            "text/html": [
              "<pre style=\"white-space:pre;overflow-x:auto;line-height:normal;font-family:Menlo,'DejaVu Sans Mono',consolas,'Courier New',monospace\"><span style=\"font-weight: bold\"> Trainable params: </span><span style=\"color: #00af00; text-decoration-color: #00af00\">16,815,426</span> (64.15 MB)\n",
              "</pre>\n"
            ]
          },
          "metadata": {}
        },
        {
          "output_type": "display_data",
          "data": {
            "text/plain": [
              "\u001b[1m Non-trainable params: \u001b[0m\u001b[38;5;34m0\u001b[0m (0.00 B)\n"
            ],
            "text/html": [
              "<pre style=\"white-space:pre;overflow-x:auto;line-height:normal;font-family:Menlo,'DejaVu Sans Mono',consolas,'Courier New',monospace\"><span style=\"font-weight: bold\"> Non-trainable params: </span><span style=\"color: #00af00; text-decoration-color: #00af00\">0</span> (0.00 B)\n",
              "</pre>\n"
            ]
          },
          "metadata": {}
        }
      ]
    },
    {
      "cell_type": "code",
      "metadata": {
        "id": "gFKNq-QkGDog"
      },
      "source": [
        "for layer in VGG_model.layers:\n",
        "    layer.trainable = False"
      ],
      "execution_count": 34,
      "outputs": []
    },
    {
      "cell_type": "code",
      "metadata": {
        "colab": {
          "base_uri": "https://localhost:8080/"
        },
        "id": "ZLD88B0SGDog",
        "outputId": "c06a2e35-5e78-4dd4-acdb-9415b8938ddf"
      },
      "source": [
        "train_data_generator=ImageDataGenerator(preprocessing_function=preprocess_input)\n",
        "\n",
        "train_generator=train_data_generator.flow_from_directory('Data/',\n",
        "                                                 target_size=(224,224),\n",
        "                                                 color_mode='rgb',\n",
        "                                                 batch_size=32,\n",
        "                                                 class_mode='categorical',\n",
        "                                                 shuffle=True)"
      ],
      "execution_count": 35,
      "outputs": [
        {
          "output_type": "stream",
          "name": "stdout",
          "text": [
            "Found 253 images belonging to 2 classes.\n"
          ]
        }
      ]
    },
    {
      "cell_type": "code",
      "metadata": {
        "id": "uM-0dRUeGDog"
      },
      "source": [
        "model.compile(optimizer='Adam',\n",
        "              loss='categorical_crossentropy',\n",
        "              metrics=['accuracy'])"
      ],
      "execution_count": 36,
      "outputs": []
    },
    {
      "cell_type": "code",
      "metadata": {
        "colab": {
          "base_uri": "https://localhost:8080/"
        },
        "id": "npaOvyUeGDoh",
        "outputId": "97621657-b80c-44d2-8c73-400da6a36036"
      },
      "source": [
        "train_step_size = train_generator.n // train_generator.batch_size\n",
        "\n",
        "# Using `fit` instead of `fit_generator` as `fit` can handle generators in new TensorFlow/Keras versions.\n",
        "r = model.fit(x=train_generator,\n",
        "              steps_per_epoch=train_step_size,\n",
        "              epochs=5)\n"
      ],
      "execution_count": 37,
      "outputs": [
        {
          "output_type": "stream",
          "name": "stderr",
          "text": [
            "/usr/local/lib/python3.11/dist-packages/keras/src/trainers/data_adapters/py_dataset_adapter.py:121: UserWarning: Your `PyDataset` class should call `super().__init__(**kwargs)` in its constructor. `**kwargs` can include `workers`, `use_multiprocessing`, `max_queue_size`. Do not pass these arguments to `fit()`, as they will be ignored.\n",
            "  self._warn_if_super_not_called()\n"
          ]
        },
        {
          "output_type": "stream",
          "name": "stdout",
          "text": [
            "Epoch 1/5\n",
            "\u001b[1m7/7\u001b[0m \u001b[32m━━━━━━━━━━━━━━━━━━━━\u001b[0m\u001b[37m\u001b[0m \u001b[1m26s\u001b[0m 2s/step - accuracy: 0.6176 - loss: 5.4659\n",
            "Epoch 2/5\n",
            "\u001b[1m7/7\u001b[0m \u001b[32m━━━━━━━━━━━━━━━━━━━━\u001b[0m\u001b[37m\u001b[0m \u001b[1m0s\u001b[0m 2ms/step - accuracy: 0.6250 - loss: 1.7292  \n",
            "Epoch 3/5\n"
          ]
        },
        {
          "output_type": "stream",
          "name": "stderr",
          "text": [
            "/usr/local/lib/python3.11/dist-packages/keras/src/trainers/epoch_iterator.py:107: UserWarning: Your input ran out of data; interrupting training. Make sure that your dataset or generator can generate at least `steps_per_epoch * epochs` batches. You may need to use the `.repeat()` function when building your dataset.\n",
            "  self._interrupted_warning()\n"
          ]
        },
        {
          "output_type": "stream",
          "name": "stdout",
          "text": [
            "\u001b[1m7/7\u001b[0m \u001b[32m━━━━━━━━━━━━━━━━━━━━\u001b[0m\u001b[37m\u001b[0m \u001b[1m1s\u001b[0m 157ms/step - accuracy: 0.6770 - loss: 0.6919\n",
            "Epoch 4/5\n",
            "\u001b[1m7/7\u001b[0m \u001b[32m━━━━━━━━━━━━━━━━━━━━\u001b[0m\u001b[37m\u001b[0m \u001b[1m0s\u001b[0m 2ms/step - accuracy: 0.9375 - loss: 0.2777  \n",
            "Epoch 5/5\n",
            "\u001b[1m7/7\u001b[0m \u001b[32m━━━━━━━━━━━━━━━━━━━━\u001b[0m\u001b[37m\u001b[0m \u001b[1m1s\u001b[0m 159ms/step - accuracy: 0.8859 - loss: 0.2557\n"
          ]
        }
      ]
    },
    {
      "cell_type": "code",
      "metadata": {
        "colab": {
          "base_uri": "https://localhost:8080/",
          "height": 447
        },
        "id": "NZyON2NCGDoh",
        "outputId": "8a58ffb7-5e26-4f95-af0b-9c3e03e75ef5"
      },
      "source": [
        "# plot the loss\n",
        "plt.plot(r.history['loss'], label='loss')\n",
        "plt.legend()\n",
        "plt.show()\n",
        "plt.savefig('Validation_Loss')"
      ],
      "execution_count": 38,
      "outputs": [
        {
          "output_type": "display_data",
          "data": {
            "text/plain": [
              "<Figure size 640x480 with 1 Axes>"
            ],
            "image/png": "[encoded data removed]"
          },
          "metadata": {}
        },
        {
          "output_type": "display_data",
          "data": {
            "text/plain": [
              "<Figure size 640x480 with 0 Axes>"
            ]
          },
          "metadata": {}
        }
      ]
    },
    {
      "cell_type": "code",
      "metadata": {
        "colab": {
          "base_uri": "https://localhost:8080/",
          "height": 448
        },
        "id": "JtnzvmqnsCFN",
        "outputId": "f8313490-ffee-4fd6-8122-db98b1b369b4"
      },
      "source": [
        "# plot the accuracy\n",
        "plt.plot(r.history['accuracy'], label='accuracy')\n",
        "plt.legend()\n",
        "plt.show()\n",
        "plt.savefig('Validation_Accuracy')"
      ],
      "execution_count": 39,
      "outputs": [
        {
          "output_type": "display_data",
          "data": {
            "text/plain": [
              "<Figure size 640x480 with 1 Axes>"
            ],
            "image/png": "[encoded data removed]"
          },
          "metadata": {}
        },
        {
          "output_type": "display_data",
          "data": {
            "text/plain": [
              "<Figure size 640x480 with 0 Axes>"
            ]
          },
          "metadata": {}
        }
      ]
    },
    {
      "cell_type": "code",
      "metadata": {
        "id": "PFA6yqY7GDoh"
      },
      "source": [
        "from tensorflow.keras.models import load_model"
      ],
      "execution_count": 40,
      "outputs": []
    },
    {
      "cell_type": "code",
      "metadata": {
        "id": "nj6iQjgxGDoh",
        "colab": {
          "base_uri": "https://localhost:8080/"
        },
        "outputId": "50db96ce-d02d-4566-bd00-8ae533395676"
      },
      "source": [
        "model.save('brain_tumor.h5')"
      ],
      "execution_count": 41,
      "outputs": [
        {
          "output_type": "stream",
          "name": "stderr",
          "text": [
            "WARNING:absl:You are saving your model as an HDF5 file via `model.save()` or `keras.saving.save_model(model)`. This file format is considered legacy. We recommend using instead the native Keras format, e.g. `model.save('my_model.keras')` or `keras.saving.save_model(model, 'my_model.keras')`. \n"
          ]
        }
      ]
    },
    {
      "cell_type": "markdown",
      "metadata": {
        "id": "sY4wyM3WHzre"
      },
      "source": [
        "## Prediction"
      ]
    },
    {
      "cell_type": "code",
      "metadata": {
        "id": "AgTiFy-oGDoi"
      },
      "source": [
        "import tensorflow as tf\n",
        "from tensorflow.keras.preprocessing import image\n",
        "import numpy as np\n",
        "from tensorflow.keras.applications.vgg16 import preprocess_input\n",
        "from tensorflow.keras.models import load_model"
      ],
      "execution_count": 42,
      "outputs": []
    },
    {
      "cell_type": "code",
      "metadata": {
        "id": "xOvFzD4RGDoi",
        "colab": {
          "base_uri": "https://localhost:8080/"
        },
        "outputId": "f1d06017-06a1-4cd0-ca58-033eea8908f6"
      },
      "source": [
        "model = load_model('brain_tumor.h5')"
      ],
      "execution_count": 43,
      "outputs": [
        {
          "output_type": "stream",
          "name": "stderr",
          "text": [
            "WARNING:absl:Compiled the loaded model, but the compiled metrics have yet to be built. `model.compile_metrics` will be empty until you train or evaluate the model.\n"
          ]
        }
      ]
    },
    {
      "cell_type": "code",
      "metadata": {
        "id": "Eo7p6gRWGDoi"
      },
      "source": [
        "imge_path = 'Data/no/10 no.jpg'"
      ],
      "execution_count": 44,
      "outputs": []
    },
    {
      "cell_type": "code",
      "metadata": {
        "id": "i5ZE4vi_H92a"
      },
      "source": [
        "single_image = image.load_img(imge_path,target_size=(224,224))\n",
        "x = image.img_to_array(single_image)"
      ],
      "execution_count": 45,
      "outputs": []
    },
    {
      "cell_type": "code",
      "metadata": {
        "id": "Wlx59E6KLW4M"
      },
      "source": [
        "x = np.expand_dims(x,axis=0)\n",
        "img_data = preprocess_input(x)"
      ],
      "execution_count": 46,
      "outputs": []
    },
    {
      "cell_type": "code",
      "metadata": {
        "colab": {
          "base_uri": "https://localhost:8080/"
        },
        "id": "OSAUQXzjIFTC",
        "outputId": "485bf76b-70d3-4bcc-c6e1-3696ac0f804a"
      },
      "source": [
        "result = model.predict(img_data)\n",
        "print(result)"
      ],
      "execution_count": 47,
      "outputs": [
        {
          "output_type": "stream",
          "name": "stdout",
          "text": [
            "\u001b[1m1/1\u001b[0m \u001b[32m━━━━━━━━━━━━━━━━━━━━\u001b[0m\u001b[37m\u001b[0m \u001b[1m2s\u001b[0m 2s/step\n",
            "[[0.94076777 0.05923222]]\n"
          ]
        }
      ]
    },
    {
      "cell_type": "code",
      "metadata": {
        "colab": {
          "base_uri": "https://localhost:8080/"
        },
        "id": "4fPxp8x6IQwP",
        "outputId": "02c8720c-3423-405e-db35-ea9c2a149802"
      },
      "source": [
        "if result[0][0] > result[0][1]:\n",
        "    prediction = 'Not A Brain Tumor'\n",
        "else:\n",
        "    prediction = 'Brain Tumor'\n",
        "\n",
        "print(prediction)"
      ],
      "execution_count": 48,
      "outputs": [
        {
          "output_type": "stream",
          "name": "stdout",
          "text": [
            "Not A Brain Tumor\n"
          ]
        }
      ]
    }
  ]
}