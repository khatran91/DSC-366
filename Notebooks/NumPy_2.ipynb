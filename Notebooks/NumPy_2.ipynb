{
  "nbformat": 4,
  "nbformat_minor": 0,
  "metadata": {
    "colab": {
      "provenance": []
    },
    "kernelspec": {
      "name": "python3",
      "display_name": "Python 3"
    },
    "language_info": {
      "name": "python"
    }
  },
  "cells": [
    {
      "cell_type": "code",
      "execution_count": 3,
      "metadata": {
        "id": "3cXaGYfClk06"
      },
      "outputs": [],
      "source": [
        "import numpy as np\n",
        "\n",
        "#Operations on a 3x3 matrix\n",
        "matrix_3x3 = np.array([[3, 6, 9], [12, 15, 18], [21, 24, 27]])\n",
        "mean_3x3 = matrix_3x3.mean()  # Calculate mean of all elements\n",
        "variance_3x3 = matrix_3x3.var()  # Calculate variance of all elements\n",
        "std_dev_3x3 = matrix_3x3.std()  # Calculate standard deviation of all elements\n",
        "mean_columns_3x3 = matrix_3x3.mean(axis=0)  # Calculate mean of each column\n",
        "\n"
      ]
    },
    {
      "cell_type": "code",
      "source": [
        "# Print results\n",
        "print(\"Task 1 Results:\")\n",
        "print(\"Mean:\", mean_3x3)\n",
        "print(\"Variance:\", variance_3x3)\n",
        "print(\"Standard Deviation:\", std_dev_3x3)\n",
        "print(\"Mean of each column:\", mean_columns_3x3)\n"
      ],
      "metadata": {
        "colab": {
          "base_uri": "https://localhost:8080/"
        },
        "id": "QANfzAjqmAHS",
        "outputId": "a904945e-00f2-4ada-ca47-9524a3790680"
      },
      "execution_count": 6,
      "outputs": [
        {
          "output_type": "stream",
          "name": "stdout",
          "text": [
            "Task 1 Results:\n",
            "Mean: 15.0\n",
            "Variance: 60.0\n",
            "Standard Deviation: 7.745966692414834\n",
            "Mean of each column: [12. 15. 18.]\n"
          ]
        }
      ]
    },
    {
      "cell_type": "code",
      "source": [
        "#Manipulate a 4x3 matrix\n",
        "matrix_4x3 = np.array([[10, 20, 30], [40, 50, 60], [70, 80, 90], [100, 110, 120]])\n",
        "reshaped_2_6 = matrix_4x3.reshape(2, 6)  # Reshape the matrix to 2 rows and 6 columns\n",
        "size_4x3 = matrix_4x3.size  # Get the total number of elements\n",
        "reshaped_1_row = matrix_4x3.reshape(1, -1)  # Reshape to 1 row with as many columns as needed\n",
        "transpose_4x3 = matrix_4x3.T  # Transpose the matrix\n",
        "flattened_4x3 = matrix_4x3.flatten()  # Flatten the matrix to a 1D array\n",
        "det_4x3 = np.linalg.det(matrix_4x3[:3, :3])  # Calculate determinant of the first 3x3 part\n",
        "diagonal_4x3 = np.diagonal(matrix_4x3[:3, :3])  # Extract the main diagonal\n",
        "diagonal_above_4x3 = np.diagonal(matrix_4x3[:3, :3], 1)  # Extract one above the main diagonal\n",
        "diagonal_below_4x3 = np.diagonal(matrix_4x3[:3, :3], -1)  # Extract one below the main diagonal\n",
        "\n"
      ],
      "metadata": {
        "id": "AqltA37Klw4U"
      },
      "execution_count": 4,
      "outputs": []
    },
    {
      "cell_type": "code",
      "source": [
        "print(\"\\nTask 2 Results:\")\n",
        "print(\"Reshaped to 2x6:\", reshaped_2_6)\n",
        "print(\"Size of matrix:\", size_4x3)\n",
        "print(\"Reshaped to 1 row:\", reshaped_1_row)\n",
        "print(\"Transpose:\", transpose_4x3)\n",
        "print(\"Flattened:\", flattened_4x3)\n",
        "print(\"Determinant:\", det_4x3)\n",
        "print(\"Diagonal elements:\", diagonal_4x3)\n",
        "print(\"Diagonal above main:\", diagonal_above_4x3)\n",
        "print(\"Diagonal below main:\", diagonal_below_4x3)\n"
      ],
      "metadata": {
        "colab": {
          "base_uri": "https://localhost:8080/"
        },
        "id": "k7akXsb0mCGc",
        "outputId": "f2d7b7d4-c678-4545-e7bb-c7f12b0f51f9"
      },
      "execution_count": 7,
      "outputs": [
        {
          "output_type": "stream",
          "name": "stdout",
          "text": [
            "\n",
            "Task 2 Results:\n",
            "Reshaped to 2x6: [[ 10  20  30  40  50  60]\n",
            " [ 70  80  90 100 110 120]]\n",
            "Size of matrix: 12\n",
            "Reshaped to 1 row: [[ 10  20  30  40  50  60  70  80  90 100 110 120]]\n",
            "Transpose: [[ 10  40  70 100]\n",
            " [ 20  50  80 110]\n",
            " [ 30  60  90 120]]\n",
            "Flattened: [ 10  20  30  40  50  60  70  80  90 100 110 120]\n",
            "Determinant: -4.263256414560599e-12\n",
            "Diagonal elements: [10 50 90]\n",
            "Diagonal above main: [20 60]\n",
            "Diagonal below main: [40 80]\n"
          ]
        }
      ]
    },
    {
      "cell_type": "code",
      "source": [
        "# Operations between two 3x3 matrices\n",
        "matrix_a = np.array([[1, 2, 3], [4, 5, 6], [7, 8, 9]])\n",
        "matrix_b = np.array([[9, 8, 7], [6, 5, 4], [3, 2, 1]])\n",
        "addition_a_b = np.add(matrix_a, matrix_b)  # Add two matrices\n",
        "subtraction_a_b = np.subtract(matrix_a, matrix_b)  # Subtract matrix_b from matrix_a\n",
        "multiplication_a_b = np.dot(matrix_a, matrix_b)  # Multiply two matrices\n",
        "\n"
      ],
      "metadata": {
        "id": "xten8ih6l4ZH"
      },
      "execution_count": 5,
      "outputs": []
    },
    {
      "cell_type": "code",
      "source": [
        "\n",
        "\n",
        "print(\"\\nTask 3 Results:\")\n",
        "print(\"Addition of A and B:\", addition_a_b)\n",
        "print(\"Subtraction of B from A:\", subtraction_a_b)\n",
        "print(\"Multiplication of A with B:\", multiplication_a_b)\n"
      ],
      "metadata": {
        "colab": {
          "base_uri": "https://localhost:8080/"
        },
        "id": "DVSNi1wwl84t",
        "outputId": "17a1e0dc-075f-4cbc-cd2f-1bb539230484"
      },
      "execution_count": 8,
      "outputs": [
        {
          "output_type": "stream",
          "name": "stdout",
          "text": [
            "\n",
            "Task 3 Results:\n",
            "Addition of A and B: [[10 10 10]\n",
            " [10 10 10]\n",
            " [10 10 10]]\n",
            "Subtraction of B from A: [[-8 -6 -4]\n",
            " [-2  0  2]\n",
            " [ 4  6  8]]\n",
            "Multiplication of A with B: [[ 30  24  18]\n",
            " [ 84  69  54]\n",
            " [138 114  90]]\n"
          ]
        }
      ]
    }
  ]
}