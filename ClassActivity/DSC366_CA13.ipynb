{
  "nbformat": 4,
  "nbformat_minor": 0,
  "metadata": {
    "colab": {
      "provenance": []
    },
    "kernelspec": {
      "name": "python3",
      "display_name": "Python 3"
    },
    "language_info": {
      "name": "python"
    }
  },
  "cells": [
    {
      "cell_type": "code",
      "execution_count": null,
      "metadata": {
        "id": "aEulQ0SFtRz0"
      },
      "outputs": [],
      "source": [
        "import numpy as np\n",
        "import matplotlib.pyplot as plt\n",
        "from sklearn.datasets import make_blobs\n",
        "from sklearn.cluster import KMeans\n",
        "\n",
        "X, true_labels = make_blobs(n_samples=300, centers=4, random_state=42, cluster_std=1.5)\n",
        "\n",
        "def kmeans_clustering_and_elbow_method(X, max_clusters):\n",
        "    ssd = []  # List to store the sum of squared distances for each K value\n",
        "    K_range = range(1, max_clusters + 1)  # Range of K values to try\n",
        "\n",
        "    for K in K_range:\n",
        "        # Initialize and fit K-means model with current K\n",
        "        kmeans = KMeans(n_clusters=K, random_state=42)\n",
        "        kmeans.fit(X)\n",
        "\n",
        "        # Append the inertia (SSD) to the list.\n",
        "        #Inertia is the sum of squared distances of samples\n",
        "        #to their closest cluster center.\n",
        "        ssd.append(kmeans.inertia_)\n",
        "\n",
        "    # Plotting the results\n",
        "    # The Elbow plot helps to determine the optimal number of\n",
        "    # clusters by identifying the point where SSD begins to decrease linearly\n",
        "    plt.figure(figsize=(8, 6))\n",
        "    plt.plot(K_range, ssd, 'bo-')\n",
        "    plt.xlabel('Number of clusters (K)')\n",
        "    plt.ylabel('Sum of Squared Distances (SSD)')\n",
        "    plt.title('Elbow Method to Determine Optimal K')\n",
        "    plt.show()\n",
        "\n",
        "# Execute the K-means clustering and Elbow Method visualization\n",
        "kmeans_clustering_and_elbow_method(X, 10)"
      ]
    }
  ]
}