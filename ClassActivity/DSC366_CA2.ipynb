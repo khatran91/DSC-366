{
  "nbformat": 4,
  "nbformat_minor": 0,
  "metadata": {
    "colab": {
      "provenance": []
    },
    "kernelspec": {
      "name": "python3",
      "display_name": "Python 3"
    },
    "language_info": {
      "name": "python"
    }
  },
  "cells": [
    {
      "cell_type": "code",
      "execution_count": 1,
      "metadata": {
        "id": "n6lWCHMi4nSG"
      },
      "outputs": [],
      "source": [
        "import numpy as np\n",
        "\n",
        "#Operations on a 3x3 matrix\n",
        "matrix_3x3 = np.array([[2, 4, 6], [12, 14, 16], [32, 34, 36]])\n",
        "mean_3x3 = matrix_3x3.mean()  # Calculate mean of all elements\n",
        "variance_3x3 = matrix_3x3.var()  # Calculate variance of all elements\n",
        "std_dev_3x3 = matrix_3x3.std()  # Calculate standard deviation of all elements\n",
        "mean_columns_3x3 = matrix_3x3.mean(axis=0)  # Calculate mean of each column"
      ]
    },
    {
      "cell_type": "code",
      "source": [
        "print(\"Task 1 Results:\")\n",
        "print(\"Mean:\", mean_3x3)\n",
        "print(\"Variance:\", variance_3x3)\n",
        "print(\"Standard Deviation:\", std_dev_3x3)\n",
        "print(\"Mean of each column:\", mean_columns_3x3)"
      ],
      "metadata": {
        "colab": {
          "base_uri": "https://localhost:8080/"
        },
        "id": "Cj4OVEDF5ETj",
        "outputId": "94a6387d-830e-4091-9c6d-eff4d0f060ed"
      },
      "execution_count": 2,
      "outputs": [
        {
          "output_type": "stream",
          "name": "stdout",
          "text": [
            "Task 1 Results:\n",
            "Mean: 17.333333333333332\n",
            "Variance: 158.22222222222223\n",
            "Standard Deviation: 12.578641509408806\n",
            "Mean of each column: [15.33333333 17.33333333 19.33333333]\n"
          ]
        }
      ]
    },
    {
      "cell_type": "code",
      "source": [
        "matrix_4x3 = np.array([[5, 10, 15], [20, 25, 30], [35, 40, 45], [50, 55, 60]])\n",
        "reshaped_2_6 = matrix_4x3.reshape(2, 6)  # Reshape the matrix to 2 rows and 6 columns\n",
        "size_4x3 = matrix_4x3.size  # Get the total number of elements\n",
        "reshaped_1_row = matrix_4x3.reshape(1, -1)  # Reshape to 1 row with as many columns as needed\n",
        "transpose_4x3 = matrix_4x3.T  # Transpose the matrix\n",
        "flattened_4x3 = matrix_4x3.flatten()  # Flatten the matrix to a 1D array\n",
        "det_4x3 = np.linalg.det(matrix_4x3[:3, :3])  # Calculate determinant of the first 3x3 part\n",
        "diagonal_4x3 = np.diagonal(matrix_4x3[:3, :3])  # Extract the main diagonal\n",
        "diagonal_above_4x3 = np.diagonal(matrix_4x3[:3, :3], 1)  # Extract one above the main diagonal\n",
        "diagonal_below_4x3 = np.diagonal(matrix_4x3[:3, :3], -1)  # Extract one below the main diagonal"
      ],
      "metadata": {
        "id": "Hd-kQvJU5ST6"
      },
      "execution_count": 3,
      "outputs": []
    },
    {
      "cell_type": "code",
      "source": [
        "print(\"\\nTask 2 Results:\")\n",
        "print(\"Reshaped to 2x6:\", reshaped_2_6)\n",
        "print(\"Size of matrix:\", size_4x3)\n",
        "print(\"Reshaped to 1 row:\", reshaped_1_row)\n",
        "print(\"Transpose:\", transpose_4x3)\n",
        "print(\"Flattened:\", flattened_4x3)\n",
        "print(\"Determinant:\", det_4x3)\n",
        "print(\"Diagonal elements:\", diagonal_4x3)\n",
        "print(\"Diagonal above main:\", diagonal_above_4x3)\n",
        "print(\"Diagonal below main:\", diagonal_below_4x3)\n"
      ],
      "metadata": {
        "colab": {
          "base_uri": "https://localhost:8080/"
        },
        "id": "EB0RE3yN5eBc",
        "outputId": "ad3f61e8-1538-4822-8315-9858cd68bdd4"
      },
      "execution_count": 4,
      "outputs": [
        {
          "output_type": "stream",
          "name": "stdout",
          "text": [
            "\n",
            "Task 2 Results:\n",
            "Reshaped to 2x6: [[ 5 10 15 20 25 30]\n",
            " [35 40 45 50 55 60]]\n",
            "Size of matrix: 12\n",
            "Reshaped to 1 row: [[ 5 10 15 20 25 30 35 40 45 50 55 60]]\n",
            "Transpose: [[ 5 20 35 50]\n",
            " [10 25 40 55]\n",
            " [15 30 45 60]]\n",
            "Flattened: [ 5 10 15 20 25 30 35 40 45 50 55 60]\n",
            "Determinant: -5.329070518200756e-13\n",
            "Diagonal elements: [ 5 25 45]\n",
            "Diagonal above main: [10 30]\n",
            "Diagonal below main: [20 40]\n"
          ]
        }
      ]
    },
    {
      "cell_type": "code",
      "source": [
        "matrix_a = np.array([[1, 2, 3], [4, 5, 6], [7, 8, 9]])\n",
        "matrix_b = np.array([[9, 8, 7], [6, 5, 4], [3, 2, 1]])\n",
        "addition_a_b = np.add(matrix_a, matrix_b)  # Add two matrices\n",
        "subtraction_a_b = np.subtract(matrix_a, matrix_b)  # Subtract matrix_b from matrix_a\n",
        "multiplication_a_b = np.dot(matrix_a, matrix_b)  # Multiply two matrices"
      ],
      "metadata": {
        "id": "u64n-p3Q5in2"
      },
      "execution_count": 5,
      "outputs": []
    },
    {
      "cell_type": "code",
      "source": [
        "print(\"\\nTask 3 Results:\")\n",
        "print(\"Addition of A and B:\", addition_a_b)\n",
        "print(\"Subtraction of B from A:\", subtraction_a_b)\n",
        "print(\"Multiplication of A with B:\", multiplication_a_b)"
      ],
      "metadata": {
        "colab": {
          "base_uri": "https://localhost:8080/"
        },
        "id": "3-2gq16e5kEH",
        "outputId": "b7c6477d-b435-4678-f513-807e3f75e639"
      },
      "execution_count": 6,
      "outputs": [
        {
          "output_type": "stream",
          "name": "stdout",
          "text": [
            "\n",
            "Task 3 Results:\n",
            "Addition of A and B: [[10 10 10]\n",
            " [10 10 10]\n",
            " [10 10 10]]\n",
            "Subtraction of B from A: [[-8 -6 -4]\n",
            " [-2  0  2]\n",
            " [ 4  6  8]]\n",
            "Multiplication of A with B: [[ 30  24  18]\n",
            " [ 84  69  54]\n",
            " [138 114  90]]\n"
          ]
        }
      ]
    }
  ]
}