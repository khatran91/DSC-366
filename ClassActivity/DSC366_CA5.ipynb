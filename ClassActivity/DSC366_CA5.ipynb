{
  "nbformat": 4,
  "nbformat_minor": 0,
  "metadata": {
    "colab": {
      "provenance": []
    },
    "kernelspec": {
      "name": "python3",
      "display_name": "Python 3"
    },
    "language_info": {
      "name": "python"
    }
  },
  "cells": [
    {
      "cell_type": "code",
      "execution_count": 1,
      "metadata": {
        "colab": {
          "base_uri": "https://localhost:8080/"
        },
        "id": "qjMkMKvnsHHW",
        "outputId": "68185b05-d28a-4663-8fd2-b1cc146b69a8"
      },
      "outputs": [
        {
          "output_type": "stream",
          "name": "stdout",
          "text": [
            "The review 'This movie was good' is predicted to be positive\n"
          ]
        }
      ],
      "source": [
        "from sklearn.feature_extraction.text import CountVectorizer\n",
        "from sklearn.naive_bayes import MultinomialNB\n",
        "from sklearn.pipeline import make_pipeline\n",
        "\n",
        "data = [\n",
        "    (\"This is a great movie\", \"positive\"),\n",
        "    (\"I hated this movie\", \"negative\"),\n",
        "    (\"This was a great experience\", \"positive\"),\n",
        "    (\"I did not like the movie\", \"negative\"),\n",
        "    (\"This is a horrible movie\", \"negative\")\n",
        "]\n",
        "\n",
        "train_texts, train_labels = zip(*data)\n",
        "\n",
        "model = make_pipeline(CountVectorizer(), MultinomialNB())\n",
        "\n",
        "model.fit(train_texts, train_labels)\n",
        "\n",
        "test_texts = [\"This movie was good\"]\n",
        "predictions = model.predict(test_texts)\n",
        "\n",
        "print(f\"The review '{test_texts[0]}' is predicted to be {predictions[0]}\")\n"
      ]
    }
  ]
}