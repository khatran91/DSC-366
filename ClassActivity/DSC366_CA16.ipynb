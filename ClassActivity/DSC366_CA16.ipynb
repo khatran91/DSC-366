{
  "nbformat": 4,
  "nbformat_minor": 0,
  "metadata": {
    "colab": {
      "provenance": []
    },
    "kernelspec": {
      "name": "python3",
      "display_name": "Python 3"
    },
    "language_info": {
      "name": "python"
    }
  },
  "cells": [
    {
      "cell_type": "code",
      "execution_count": null,
      "metadata": {
        "id": "HRDiwj9ZBGfz"
      },
      "outputs": [],
      "source": [
        "import numpy as np\n",
        "import tensorflow as tf\n",
        "from tensorflow.keras.applicaiton import VGG16\n",
        "from tensorflow.keras.models import Model\n",
        "from tensorflow.keras.layers import Dense, GlobalAveragePooling2D\n",
        "from tensorflow.keras.optimizers import Adam\n",
        "from tensorflow.keras.preprocessing.image import load_img, img_to_array\n",
        "from google.colab import files\n",
        "import io\n",
        "from PIL import Image\n",
        "\n",
        "# Load the pre-trained VGG16 model\n",
        "base_model = VGG16(weights='imagenet', include_top=False, input_shape=(224, 224, 3))\n",
        "\n",
        "# Freeze all layers in the base model\n",
        "for layer in base_model.layers:\n",
        "    layer.trainable = False\n",
        "\n",
        "x = GlobalAveragePooling2D()(base_model.output)\n",
        "x = Dense(128, activation='relu')(x)\n",
        "output = Dense(1, activation='sigmoid')(x)\n",
        "\n",
        "model = Model(inputs=base_model.input, outputs=output)\n",
        "\n",
        "model.compile(optimizer=Adam(learning_rate=0.0001), loss='binary_crossentropy', metrics=['accuracy'])\n",
        "\n",
        "def load_and_preprocess_image(image):\n",
        "    img = img.resize(224, 224)\n",
        "    img_array = img_to_array(img)\n",
        "    img_array_expanded = np.expand_dims(img_array, axis=0)\n",
        "    img_preprocessed = preprocess_input(img_array_expanded_dims)\n",
        "    return img_preprocessed\n",
        "\n",
        "def predict_image(image):\n",
        "    img_preprocessed = load_and_preprocess_image(image)\n",
        "    prediction = model.predict(img_preprocessed)\n",
        "    return prediction\n",
        "\n",
        "uploaded = files.upload()\n",
        "\n"
      ]
    }
  ]
}